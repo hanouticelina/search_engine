{
 "cells": [
  {
   "cell_type": "code",
   "execution_count": 7,
   "metadata": {
    "ExecuteTime": {
     "end_time": "2020-02-06T19:36:27.821105Z",
     "start_time": "2020-02-06T19:36:27.777420Z"
    }
   },
   "outputs": [],
   "source": [
    "import numpy as np\n",
    "import utils.porter as pt\n",
    "import Parser as parse\n",
    "import TextRepresenter as tr\n",
    "import collections\n",
    "import Index as ind\n",
    "%load_ext autoreload\n",
    "%autoreload 2"
   ]
  },
  {
   "cell_type": "code",
   "execution_count": 8,
   "metadata": {
    "ExecuteTime": {
     "end_time": "2020-02-06T19:36:28.860758Z",
     "start_time": "2020-02-06T19:36:28.841890Z"
    }
   },
   "outputs": [],
   "source": [
    "Documents = ['the new home has been saled on top forecasts','the home sales rise in july', 'there is an increase in home sales in july',' july encounter a new home sales rise']"
   ]
  },
  {
   "cell_type": "code",
   "execution_count": 13,
   "metadata": {
    "ExecuteTime": {
     "end_time": "2020-02-06T15:59:10.556564Z",
     "start_time": "2020-02-06T15:59:10.542888Z"
    }
   },
   "outputs": [
    {
     "data": {
      "text/plain": [
       "1"
      ]
     },
     "execution_count": 13,
     "metadata": {},
     "output_type": "execute_result"
    }
   ],
   "source": [
    "l = \" \"\n",
    "len(l)"
   ]
  },
  {
   "cell_type": "code",
   "execution_count": 9,
   "metadata": {
    "ExecuteTime": {
     "end_time": "2020-02-06T19:36:30.679869Z",
     "start_time": "2020-02-06T19:36:30.654421Z"
    }
   },
   "outputs": [
    {
     "ename": "AttributeError",
     "evalue": "module 'Parser' has no attribute 'buildDocCollectionSimple'",
     "output_type": "error",
     "traceback": [
      "\u001b[0;31m---------------------------------------------------------------------------\u001b[0m",
      "\u001b[0;31mAttributeError\u001b[0m                            Traceback (most recent call last)",
      "\u001b[0;32m<ipython-input-9-10f79689fe8c>\u001b[0m in \u001b[0;36m<module>\u001b[0;34m\u001b[0m\n\u001b[1;32m      1\u001b[0m \u001b[0mpath\u001b[0m \u001b[0;34m=\u001b[0m \u001b[0;34m\"cacmShort-good.txt\"\u001b[0m\u001b[0;34m\u001b[0m\u001b[0;34m\u001b[0m\u001b[0m\n\u001b[0;32m----> 2\u001b[0;31m \u001b[0mout\u001b[0m \u001b[0;34m=\u001b[0m \u001b[0mparse\u001b[0m\u001b[0;34m.\u001b[0m\u001b[0mbuildDocCollectionSimple\u001b[0m\u001b[0;34m(\u001b[0m\u001b[0mpath\u001b[0m\u001b[0;34m)\u001b[0m\u001b[0;34m\u001b[0m\u001b[0;34m\u001b[0m\u001b[0m\n\u001b[0m",
      "\u001b[0;31mAttributeError\u001b[0m: module 'Parser' has no attribute 'buildDocCollectionSimple'"
     ]
    }
   ],
   "source": [
    "path = \"cacmShort-good.txt\"\n",
    "out = parse.buildDocCollectionSimple(path)"
   ]
  },
  {
   "cell_type": "code",
   "execution_count": 46,
   "metadata": {
    "ExecuteTime": {
     "end_time": "2020-02-06T16:31:07.624199Z",
     "start_time": "2020-02-06T16:31:07.605826Z"
    }
   },
   "outputs": [
    {
     "data": {
      "text/plain": [
       "('2',\n",
       " 'Extraction of Roots by Repeated Subtractions for Digital Computers',\n",
       " [2, 2, 2])"
      ]
     },
     "execution_count": 46,
     "metadata": {},
     "output_type": "execute_result"
    }
   ],
   "source": [
    "out[1]"
   ]
  },
  {
   "cell_type": "code",
   "execution_count": 19,
   "metadata": {
    "ExecuteTime": {
     "end_time": "2020-02-06T16:10:03.569771Z",
     "start_time": "2020-02-06T16:10:03.547228Z"
    }
   },
   "outputs": [
    {
     "data": {
      "text/plain": [
       "[('1',\n",
       "  'Preliminary Report-International Algebraic Language jgkfldjgfkld',\n",
       "  set()),\n",
       " ('2',\n",
       "  'Extraction of Roots by Repeated Subtractions for Digital Computers',\n",
       "  set()),\n",
       " ('3', 'Techniques Department on Matrix Program Schemes', set()),\n",
       " ('4', 'Glossary of Computer Engineering and Programming Terminology', set()),\n",
       " ('5', 'Two Square-Root Approximations', set()),\n",
       " ('6', 'The Use of Computers in Inspection Procedures', set()),\n",
       " ('7', 'Glossary of Computer Engineering and Programming Terminology', set()),\n",
       " ('8', 'On The Equivalence and Transformation of Program Schemes', set()),\n",
       " ('9', 'Proposal for an UNCOL', set()),\n",
       " ('10', 'Glossary of Computer Engineering and Programming Terminology', set()),\n",
       " ('11',\n",
       "  'The Problem of Programming Communication with Changing Machines A Proposed Solution-Part 2',\n",
       "  set())]"
      ]
     },
     "execution_count": 19,
     "metadata": {},
     "output_type": "execute_result"
    }
   ],
   "source": [
    "buildDocCollectionSimple(path)"
   ]
  },
  {
   "cell_type": "code",
   "execution_count": 47,
   "metadata": {
    "ExecuteTime": {
     "end_time": "2020-02-06T16:44:50.605922Z",
     "start_time": "2020-02-06T16:44:50.592254Z"
    }
   },
   "outputs": [],
   "source": [
    "out = parse.buildDocumentCollectionRegex(path)"
   ]
  },
  {
   "cell_type": "code",
   "execution_count": 48,
   "metadata": {
    "ExecuteTime": {
     "end_time": "2020-02-06T16:44:53.710487Z",
     "start_time": "2020-02-06T16:44:53.688444Z"
    }
   },
   "outputs": [
    {
     "data": {
      "text/plain": [
       "[('1', 'Preliminary Report-International Algebraic Language jgkfldjgfkld'),\n",
       " ('2', 'Extraction of Roots by Repeated Subtractions for Digital Computers'),\n",
       " ('3', 'Techniques Department on Matrix Program Schemes'),\n",
       " ('4', 'Glossary of Computer Engineering and Programming Terminology'),\n",
       " ('5', 'Two Square-Root Approximations'),\n",
       " ('6', 'The Use of Computers in Inspection Procedures'),\n",
       " ('7', 'Glossary of Computer Engineering and Programming Terminology'),\n",
       " ('8', 'On The Equivalence and Transformation of Program Schemes'),\n",
       " ('9', 'Proposal for an UNCOL'),\n",
       " ('10', 'Glossary of Computer Engineering and Programming Terminology'),\n",
       " ('11',\n",
       "  'The Problem of Programming Communication with Changing Machines A Proposed Solution-Part 2')]"
      ]
     },
     "execution_count": 48,
     "metadata": {},
     "output_type": "execute_result"
    }
   ],
   "source": [
    "out"
   ]
  },
  {
   "cell_type": "code",
   "execution_count": 135,
   "metadata": {
    "ExecuteTime": {
     "end_time": "2020-02-06T18:43:12.653210Z",
     "start_time": "2020-02-06T18:43:12.634969Z"
    }
   },
   "outputs": [
    {
     "ename": "FileNotFoundError",
     "evalue": "[Errno 2] No such file or directory: 'data/cacm/cacm.txt'",
     "output_type": "error",
     "traceback": [
      "\u001b[0;31m---------------------------------------------------------------------------\u001b[0m",
      "\u001b[0;31mFileNotFoundError\u001b[0m                         Traceback (most recent call last)",
      "\u001b[0;32m<ipython-input-135-50b747c1fc10>\u001b[0m in \u001b[0;36m<module>\u001b[0;34m\u001b[0m\n\u001b[1;32m      1\u001b[0m \u001b[0mparser\u001b[0m \u001b[0;34m=\u001b[0m \u001b[0mparse\u001b[0m\u001b[0;34m.\u001b[0m\u001b[0mParser\u001b[0m\u001b[0;34m(\u001b[0m\u001b[0;34m)\u001b[0m\u001b[0;34m\u001b[0m\u001b[0;34m\u001b[0m\u001b[0m\n\u001b[0;32m----> 2\u001b[0;31m \u001b[0mparsed\u001b[0m \u001b[0;34m=\u001b[0m \u001b[0mparser\u001b[0m\u001b[0;34m.\u001b[0m\u001b[0mbuildDocCollectionSimple\u001b[0m\u001b[0;34m(\u001b[0m\u001b[0;34m\"data/cacm/cacm.txt\"\u001b[0m\u001b[0;34m)\u001b[0m\u001b[0;34m\u001b[0m\u001b[0;34m\u001b[0m\u001b[0m\n\u001b[0m",
      "\u001b[0;32m~/S2/RITAL/Index/Parser.py\u001b[0m in \u001b[0;36mbuildDocCollectionSimple\u001b[0;34m(self, path, balise)\u001b[0m\n",
      "\u001b[0;31mFileNotFoundError\u001b[0m: [Errno 2] No such file or directory: 'data/cacm/cacm.txt'"
     ]
    }
   ],
   "source": [
    "parser = parse.Parser()\n",
    "parsed = parser.buildDocCollectionSimple(\".data/cacm/cacm.txt\")"
   ]
  },
  {
   "cell_type": "code",
   "execution_count": 70,
   "metadata": {
    "ExecuteTime": {
     "end_time": "2020-02-06T17:23:42.958936Z",
     "start_time": "2020-02-06T17:23:42.923146Z"
    }
   },
   "outputs": [],
   "source": [
    "d = parser.get_collection()"
   ]
  },
  {
   "cell_type": "code",
   "execution_count": 71,
   "metadata": {
    "ExecuteTime": {
     "end_time": "2020-02-06T17:23:43.692989Z",
     "start_time": "2020-02-06T17:23:43.639631Z"
    }
   },
   "outputs": [
    {
     "data": {
      "text/plain": [
       "dict_values([<Parser.Document object at 0x7f6c02c044a8>, <Parser.Document object at 0x7f6c02c04550>, <Parser.Document object at 0x7f6c02c04b00>, <Parser.Document object at 0x7f6c02c04b38>, <Parser.Document object at 0x7f6c02c04b70>, <Parser.Document object at 0x7f6c02c04ba8>, <Parser.Document object at 0x7f6c02c04be0>, <Parser.Document object at 0x7f6c02c04c18>, <Parser.Document object at 0x7f6c02c04c50>, <Parser.Document object at 0x7f6c02c04c88>, <Parser.Document object at 0x7f6c02c04390>])"
      ]
     },
     "execution_count": 71,
     "metadata": {},
     "output_type": "execute_result"
    }
   ],
   "source": [
    "d.values()"
   ]
  },
  {
   "cell_type": "code",
   "execution_count": 131,
   "metadata": {
    "ExecuteTime": {
     "end_time": "2020-02-06T18:17:55.649734Z",
     "start_time": "2020-02-06T18:17:19.464030Z"
    }
   },
   "outputs": [],
   "source": [
    "index = ind.IndexerSimple(parser.collection)"
   ]
  },
  {
   "cell_type": "code",
   "execution_count": 103,
   "metadata": {
    "ExecuteTime": {
     "end_time": "2020-02-06T17:48:57.193873Z",
     "start_time": "2020-02-06T17:48:57.170339Z"
    }
   },
   "outputs": [
    {
     "name": "stdout",
     "output_type": "stream",
     "text": [
      "{0: {'preliminari': 1, 'report': 1, 'intern': 1, 'algebra': 1, 'languag': 1, 'jgkfldjgfkld': 1}, 1: {'extract': 1, 'root': 1, 'repeat': 1, 'subtract': 1, 'digit': 1, 'comput': 1}, 2: {'techniqu': 1, 'depart': 1, 'matrix': 1, 'program': 1, 'scheme': 1}, 3: {'glossari': 1, 'comput': 1, 'engin': 1, 'programm': 1, 'terminolog': 1}, 4: {'squar': 1, 'root': 1, 'approxim': 1}, 5: {'comput': 1, 'inspect': 1, 'procedur': 1}, 6: {'glossari': 1, 'comput': 1, 'engin': 1, 'programm': 1, 'terminolog': 1}, 7: {'equival': 1, 'transform': 1, 'program': 1, 'scheme': 1}, 8: {'propos': 1, 'uncol': 1}, 9: {'glossari': 1, 'comput': 1, 'engin': 1, 'programm': 1, 'terminolog': 1}, 10: {'problem': 1, 'programm': 1, 'commun': 1, 'chang': 1, 'machin': 1, 'propos': 1, 'solut': 1, '2': 1}}\n"
     ]
    }
   ],
   "source": [
    "print(index.index)"
   ]
  },
  {
   "cell_type": "code",
   "execution_count": 125,
   "metadata": {
    "ExecuteTime": {
     "end_time": "2020-02-06T17:59:43.680441Z",
     "start_time": "2020-02-06T17:59:43.598304Z"
    }
   },
   "outputs": [
    {
     "name": "stdout",
     "output_type": "stream",
     "text": [
      "dict_keys([0, 1, 2, 3, 4, 5, 6, 7, 8, 9, 10])\n",
      "dict_keys([0, 1, 2, 3, 4, 5, 6, 7, 8, 9, 10])\n",
      "dict_keys([0, 1, 2, 3, 4, 5, 6, 7, 8, 9, 10])\n",
      "dict_keys([0, 1, 2, 3, 4, 5, 6, 7, 8, 9, 10])\n",
      "dict_keys([0, 1, 2, 3, 4, 5, 6, 7, 8, 9, 10])\n",
      "dict_keys([0, 1, 2, 3, 4, 5, 6, 7, 8, 9, 10])\n",
      "dict_keys([0, 1, 2, 3, 4, 5, 6, 7, 8, 9, 10])\n",
      "dict_keys([0, 1, 2, 3, 4, 5, 6, 7, 8, 9, 10])\n",
      "dict_keys([0, 1, 2, 3, 4, 5, 6, 7, 8, 9, 10])\n",
      "dict_keys([0, 1, 2, 3, 4, 5, 6, 7, 8, 9, 10])\n",
      "dict_keys([0, 1, 2, 3, 4, 5, 6, 7, 8, 9, 10])\n"
     ]
    },
    {
     "data": {
      "text/plain": [
       "{0: {'preliminari': 1.791759469228055,\n",
       "  'report': 1.791759469228055,\n",
       "  'intern': 1.791759469228055,\n",
       "  'algebra': 1.791759469228055,\n",
       "  'languag': 1.791759469228055,\n",
       "  'jgkfldjgfkld': 1.791759469228055},\n",
       " 1: {'extract': 1.791759469228055,\n",
       "  'root': 1.3862943611198906,\n",
       "  'repeat': 1.791759469228055,\n",
       "  'subtract': 1.791759469228055,\n",
       "  'digit': 1.791759469228055,\n",
       "  'comput': 0.6931471805599453},\n",
       " 2: {'techniqu': 1.791759469228055,\n",
       "  'depart': 1.791759469228055,\n",
       "  'matrix': 1.791759469228055,\n",
       "  'program': 1.3862943611198906,\n",
       "  'scheme': 1.3862943611198906},\n",
       " 3: {'glossari': 1.0986122886681098,\n",
       "  'comput': 0.6931471805599453,\n",
       "  'engin': 1.0986122886681098,\n",
       "  'programm': 0.8754687373538999,\n",
       "  'terminolog': 1.0986122886681098},\n",
       " 4: {'squar': 1.791759469228055,\n",
       "  'root': 1.3862943611198906,\n",
       "  'approxim': 1.791759469228055},\n",
       " 5: {'comput': 0.6931471805599453,\n",
       "  'inspect': 1.791759469228055,\n",
       "  'procedur': 1.791759469228055},\n",
       " 6: {'glossari': 1.0986122886681098,\n",
       "  'comput': 0.6931471805599453,\n",
       "  'engin': 1.0986122886681098,\n",
       "  'programm': 0.8754687373538999,\n",
       "  'terminolog': 1.0986122886681098},\n",
       " 7: {'equival': 1.791759469228055,\n",
       "  'transform': 1.791759469228055,\n",
       "  'program': 1.3862943611198906,\n",
       "  'scheme': 1.3862943611198906},\n",
       " 8: {'propos': 1.3862943611198906, 'uncol': 1.791759469228055},\n",
       " 9: {'glossari': 1.0986122886681098,\n",
       "  'comput': 0.6931471805599453,\n",
       "  'engin': 1.0986122886681098,\n",
       "  'programm': 0.8754687373538999,\n",
       "  'terminolog': 1.0986122886681098},\n",
       " 10: {'problem': 1.791759469228055,\n",
       "  'programm': 0.8754687373538999,\n",
       "  'commun': 1.791759469228055,\n",
       "  'chang': 1.791759469228055,\n",
       "  'machin': 1.791759469228055,\n",
       "  'propos': 1.3862943611198906,\n",
       "  'solut': 1.791759469228055,\n",
       "  '2': 1.791759469228055}}"
      ]
     },
     "execution_count": 125,
     "metadata": {},
     "output_type": "execute_result"
    }
   ],
   "source": [
    "index.create_tf_idf()"
   ]
  },
  {
   "cell_type": "code",
   "execution_count": null,
   "metadata": {},
   "outputs": [],
   "source": []
  }
 ],
 "metadata": {
  "file_extension": ".py",
  "kernelspec": {
   "display_name": "Python 3",
   "language": "python",
   "name": "python3"
  },
  "language_info": {
   "codemirror_mode": {
    "name": "ipython",
    "version": 3
   },
   "file_extension": ".py",
   "mimetype": "text/x-python",
   "name": "python",
   "nbconvert_exporter": "python",
   "pygments_lexer": "ipython3",
   "version": "3.7.3"
  },
  "mimetype": "text/x-python",
  "name": "python",
  "npconvert_exporter": "python",
  "pygments_lexer": "ipython3",
  "version": 3
 },
 "nbformat": 4,
 "nbformat_minor": 2
}
