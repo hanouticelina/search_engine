{
 "cells": [
  {
   "cell_type": "code",
   "execution_count": 186,
   "metadata": {
    "ExecuteTime": {
     "end_time": "2020-02-09T13:06:01.922205Z",
     "start_time": "2020-02-09T13:06:01.880051Z"
    }
   },
   "outputs": [
    {
     "name": "stdout",
     "output_type": "stream",
     "text": [
      "The autoreload extension is already loaded. To reload it, use:\n",
      "  %reload_ext autoreload\n"
     ]
    }
   ],
   "source": [
    "import numpy as np\n",
    "import utils.porter as pt\n",
    "import Parser as parse\n",
    "import TextRepresenter as tr\n",
    "import collections\n",
    "import Index as ind\n",
    "%load_ext autoreload\n",
    "%autoreload 2"
   ]
  },
  {
   "cell_type": "code",
   "execution_count": 131,
   "metadata": {
    "ExecuteTime": {
     "end_time": "2020-02-09T12:45:43.362686Z",
     "start_time": "2020-02-09T12:45:43.335832Z"
    }
   },
   "outputs": [],
   "source": [
    "Documents = ['the new home has been saled on top forecasts','the home sales rise in july', 'there is an increase in home sales in july',' july encounter a new home sales rise']"
   ]
  },
  {
   "cell_type": "code",
   "execution_count": 206,
   "metadata": {
    "ExecuteTime": {
     "end_time": "2020-02-09T13:18:53.853850Z",
     "start_time": "2020-02-09T13:18:24.797257Z"
    }
   },
   "outputs": [],
   "source": [
    "parser = parse.Parser()\n",
    "parsed = parser.buildDocCollectionSimple(\"../data/cisi/cisi.txt\",balise='.W')\n",
    "index = ind.IndexerSimple(parser.collection)"
   ]
  },
  {
   "cell_type": "code",
   "execution_count": 207,
   "metadata": {
    "ExecuteTime": {
     "end_time": "2020-02-09T13:19:08.557287Z",
     "start_time": "2020-02-09T13:19:08.534538Z"
    }
   },
   "outputs": [
    {
     "data": {
      "text/plain": [
       "2459"
      ]
     },
     "execution_count": 207,
     "metadata": {},
     "output_type": "execute_result"
    }
   ],
   "source": [
    "len(index.index)"
   ]
  },
  {
   "cell_type": "code",
   "execution_count": 217,
   "metadata": {
    "ExecuteTime": {
     "end_time": "2020-02-09T13:23:29.116036Z",
     "start_time": "2020-02-09T13:23:29.095515Z"
    }
   },
   "outputs": [],
   "source": [
    "def testLong():\n",
    "\n",
    "    \n",
    "    parsed = None\n",
    "    file = \"data/cacm/cacm.txt\"\n",
    "    for path in [\"./\", \"../\"]:\n",
    "        try:\n",
    "            parser = parse.Parser()\n",
    "            _ = parser.buildDocCollectionSimple(path + file)\n",
    "            break\n",
    "        except FileNotFoundError:\n",
    "            pass\n",
    "    \n",
    "    print(\"création index\")\n",
    "    indexer = ind.IndexerSimple(parser.collection)\n",
    "    print(len(indexer.index))\n",
    "    # assert len(indexer.index) == 2459\n",
    "    \n",
    "    print(\"création tfidf\")\n",
    "    tf_idf = indexer.tf_idf\n",
    "    assert tf_idf.keys() == indexer.index.keys()"
   ]
  },
  {
   "cell_type": "code",
   "execution_count": 218,
   "metadata": {
    "ExecuteTime": {
     "end_time": "2020-02-09T13:23:43.013556Z",
     "start_time": "2020-02-09T13:23:29.688106Z"
    }
   },
   "outputs": [
    {
     "name": "stdout",
     "output_type": "stream",
     "text": [
      "création index\n",
      "4202\n",
      "création tfidf\n"
     ]
    }
   ],
   "source": [
    "testLong()"
   ]
  },
  {
   "cell_type": "code",
   "execution_count": 215,
   "metadata": {
    "ExecuteTime": {
     "end_time": "2020-02-09T13:23:11.421642Z",
     "start_time": "2020-02-09T13:23:11.398977Z"
    }
   },
   "outputs": [],
   "source": [
    "testShort()"
   ]
  },
  {
   "cell_type": "code",
   "execution_count": 135,
   "metadata": {
    "ExecuteTime": {
     "end_time": "2020-02-09T12:45:50.731769Z",
     "start_time": "2020-02-09T12:45:50.700461Z"
    }
   },
   "outputs": [
    {
     "data": {
      "text/plain": [
       "{'report-intern': {'1': 0.2},\n",
       " 'languag': {'1': 0.2},\n",
       " 'techniqu': {'3': 0.2},\n",
       " 'transform': {'8': 0.25},\n",
       " 'machin': {'11': 0.125},\n",
       " 'extract': {'2': 0.16666666666666666},\n",
       " 'depart': {'3': 0.2},\n",
       " 'propos': {'9': 0.5, '11': 0.125},\n",
       " 'terminolog': {'4': 0.2, '7': 0.2, '10': 0.2},\n",
       " 'engin': {'4': 0.2, '7': 0.2, '10': 0.2},\n",
       " 'digit': {'2': 0.16666666666666666},\n",
       " 'programm': {'4': 0.2, '7': 0.2, '10': 0.2, '11': 0.125},\n",
       " 'procedur': {'6': 0.3333333333333333},\n",
       " 'inspect': {'6': 0.3333333333333333},\n",
       " 'equival': {'8': 0.25},\n",
       " 'chang': {'11': 0.125},\n",
       " 'glossari': {'4': 0.2, '7': 0.2, '10': 0.2},\n",
       " 'uncol': {'9': 0.5},\n",
       " 'solution-part': {'11': 0.125},\n",
       " 'problem': {'11': 0.125},\n",
       " 'root': {'2': 0.16666666666666666},\n",
       " 'preliminari': {'1': 0.2},\n",
       " 'repeat': {'2': 0.16666666666666666},\n",
       " 'scheme': {'3': 0.2, '8': 0.25},\n",
       " 'matrix': {'3': 0.2},\n",
       " 'program': {'3': 0.2, '8': 0.25},\n",
       " '2': {'11': 0.125},\n",
       " 'comput': {'2': 0.16666666666666666,\n",
       "  '4': 0.2,\n",
       "  '6': 0.3333333333333333,\n",
       "  '7': 0.2,\n",
       "  '10': 0.2},\n",
       " 'approxim': {'5': 0.5},\n",
       " 'subtract': {'2': 0.16666666666666666},\n",
       " 'jgkfldjgfkld': {'1': 0.2},\n",
       " 'algebra': {'1': 0.2},\n",
       " 'commun': {'11': 0.125},\n",
       " 'square-root': {'5': 0.5}}"
      ]
     },
     "execution_count": 135,
     "metadata": {},
     "output_type": "execute_result"
    }
   ],
   "source": [
    "index.get_normalized_index()[1]"
   ]
  },
  {
   "cell_type": "code",
   "execution_count": 48,
   "metadata": {
    "ExecuteTime": {
     "end_time": "2020-02-09T12:11:51.815684Z",
     "start_time": "2020-02-09T12:11:51.756104Z"
    }
   },
   "outputs": [
    {
     "name": "stdout",
     "output_type": "stream",
     "text": [
      "{'1': {'preliminari': 1, 'report-intern': 1, 'algebra': 1, 'languag': 1, 'jgkfldjgfkld': 1}, '2': {'extract': 1, 'root': 1, 'repeat': 1, 'subtract': 1, 'digit': 1, 'comput': 1}, '3': {'techniqu': 1, 'depart': 1, 'matrix': 1, 'program': 1, 'scheme': 1}, '4': {'glossari': 1, 'comput': 1, 'engin': 1, 'programm': 1, 'terminolog': 1}, '5': {'square-root': 1, 'approxim': 1}, '6': {'comput': 1, 'inspect': 1, 'procedur': 1}, '7': {'glossari': 1, 'comput': 1, 'engin': 1, 'programm': 1, 'terminolog': 1}, '8': {'equival': 1, 'transform': 1, 'program': 1, 'scheme': 1}, '9': {'propos': 1, 'uncol': 1}, '10': {'glossari': 1, 'comput': 1, 'engin': 1, 'programm': 1, 'terminolog': 1}, '11': {'problem': 1, 'programm': 1, 'commun': 1, 'chang': 1, 'machin': 1, 'propos': 1, 'solution-part': 1, '2': 1}}\n"
     ]
    }
   ],
   "source": [
    "print(index.index)"
   ]
  },
  {
   "cell_type": "code",
   "execution_count": 70,
   "metadata": {
    "ExecuteTime": {
     "end_time": "2020-02-09T12:16:44.517929Z",
     "start_time": "2020-02-09T12:16:44.492033Z"
    }
   },
   "outputs": [
    {
     "ename": "AttributeError",
     "evalue": "'IndexerSimple' object has no attribute 'create_tf_idf'",
     "output_type": "error",
     "traceback": [
      "\u001b[0;31m---------------------------------------------------------------------------\u001b[0m",
      "\u001b[0;31mAttributeError\u001b[0m                            Traceback (most recent call last)",
      "\u001b[0;32m<ipython-input-70-c9051654092a>\u001b[0m in \u001b[0;36m<module>\u001b[0;34m\u001b[0m\n\u001b[0;32m----> 1\u001b[0;31m \u001b[0mindex\u001b[0m\u001b[0;34m.\u001b[0m\u001b[0mcreate_tf_idf\u001b[0m\u001b[0;34m(\u001b[0m\u001b[0;34m)\u001b[0m\u001b[0;34m\u001b[0m\u001b[0;34m\u001b[0m\u001b[0m\n\u001b[0m",
      "\u001b[0;31mAttributeError\u001b[0m: 'IndexerSimple' object has no attribute 'create_tf_idf'"
     ]
    }
   ],
   "source": [
    "index.create_tf_idf()"
   ]
  },
  {
   "cell_type": "code",
   "execution_count": null,
   "metadata": {},
   "outputs": [],
   "source": []
  }
 ],
 "metadata": {
  "file_extension": ".py",
  "kernelspec": {
   "display_name": "Python 3",
   "language": "python",
   "name": "python3"
  },
  "language_info": {
   "codemirror_mode": {
    "name": "ipython",
    "version": 3
   },
   "file_extension": ".py",
   "mimetype": "text/x-python",
   "name": "python",
   "nbconvert_exporter": "python",
   "pygments_lexer": "ipython3",
   "version": "3.7.3"
  },
  "mimetype": "text/x-python",
  "name": "python",
  "npconvert_exporter": "python",
  "pygments_lexer": "ipython3",
  "version": 3
 },
 "nbformat": 4,
 "nbformat_minor": 2
}
