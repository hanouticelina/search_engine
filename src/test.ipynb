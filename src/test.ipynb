{
 "cells": [
  {
   "cell_type": "code",
   "execution_count": 2,
   "metadata": {
    "ExecuteTime": {
     "end_time": "2020-02-15T11:25:47.127036Z",
     "start_time": "2020-02-15T11:25:47.101056Z"
    }
   },
   "outputs": [
    {
     "name": "stdout",
     "output_type": "stream",
     "text": [
      "The autoreload extension is already loaded. To reload it, use:\n",
      "  %reload_ext autoreload\n"
     ]
    }
   ],
   "source": [
    "import numpy as np\n",
    "import utils.porter as pt\n",
    "from Parser import *\n",
    "from TextRepresenter import *\n",
    "import collections\n",
    "from Index import *\n",
    "%load_ext autoreload\n",
    "%autoreload 2"
   ]
  },
  {
   "cell_type": "code",
   "execution_count": 3,
   "metadata": {
    "ExecuteTime": {
     "end_time": "2020-02-15T11:25:48.027187Z",
     "start_time": "2020-02-15T11:25:48.010721Z"
    }
   },
   "outputs": [],
   "source": [
    "Documents = ['the new home has been saled on top forecasts','the home sales rise in july', 'there is an increase in home sales in july',' july encounter a new home sales rise']"
   ]
  },
  {
   "cell_type": "code",
   "execution_count": 13,
   "metadata": {
    "ExecuteTime": {
     "end_time": "2020-02-09T14:13:13.475974Z",
     "start_time": "2020-02-09T14:13:13.431382Z"
    }
   },
   "outputs": [],
   "source": [
    "file = \"../cacmShort-good.txt\"\n",
    "try:\n",
    "    parser = parse.Parser()\n",
    "    _ = parser.buildDocCollectionSimple(file)\n",
    "except FileNotFoundError:\n",
    "    print(\"le fichier est introuvable\")\n",
    "\n",
    "indexer = ind.IndexerSimple(parser.collection)\n",
    "index, inv_index = indexer.get_index()"
   ]
  },
  {
   "cell_type": "code",
   "execution_count": 15,
   "metadata": {
    "ExecuteTime": {
     "end_time": "2020-02-09T14:13:35.685111Z",
     "start_time": "2020-02-09T14:13:22.964916Z"
    }
   },
   "outputs": [
    {
     "name": "stdout",
     "output_type": "stream",
     "text": [
      "4202\n"
     ]
    }
   ],
   "source": [
    "file = \"../data/cacm/cacm.txt\"\n",
    "try:\n",
    "    parser = parse.Parser()\n",
    "    _ = parser.buildDocCollectionSimple(file)\n",
    "except FileNotFoundError:\n",
    "    print(\"le fichier est introuvable\")\n",
    "\n",
    "indexer = ind.IndexerSimple(parser.collection)\n",
    "index, inv_index = indexer.get_index()\n",
    "print(len(index))"
   ]
  },
  {
   "cell_type": "code",
   "execution_count": 17,
   "metadata": {
    "ExecuteTime": {
     "end_time": "2020-02-09T14:14:47.667847Z",
     "start_time": "2020-02-09T14:14:20.560777Z"
    }
   },
   "outputs": [
    {
     "name": "stdout",
     "output_type": "stream",
     "text": [
      "2459\n"
     ]
    }
   ],
   "source": [
    "file = \"../data/cisi/cisi.txt\"\n",
    "try:\n",
    "    parser = parse.Parser()\n",
    "    _ = parser.buildDocCollectionSimple(file,balise='.W')\n",
    "except FileNotFoundError:\n",
    "    print(\"le fichier est introuvable\")\n",
    "\n",
    "indexer = ind.IndexerSimple(parser.collection)\n",
    "index, inv_index = indexer.get_index()\n",
    "print(len(index))"
   ]
  },
  {
   "cell_type": "code",
   "execution_count": 3,
   "metadata": {},
   "outputs": [],
   "source": [
    "Documents = [\"the new home has been saled on top forecasts\",\"the home sales rise in july\",\"here is an increase in home sales in july\",\"july encounter a new home sales rise\"]"
   ]
  },
  {
   "cell_type": "code",
   "execution_count": 6,
   "metadata": {},
   "outputs": [],
   "source": [
    "q = \"home sales top\""
   ]
  },
  {
   "cell_type": "code",
   "execution_count": 7,
   "metadata": {},
   "outputs": [],
   "source": [
    " def booleanScore(q,d):\n",
    "    stemmer = PorterStemmer()\n",
    "    dr = stemmer.getTextRepresentation(d)\n",
    "    qr = stemmer.getTextRepresentation(q)\n",
    "    for k in qr.keys():\n",
    "        if k not in dr.keys():\n",
    "            return 0\n",
    "    return 1"
   ]
  },
  {
   "cell_type": "code",
   "execution_count": 22,
   "metadata": {},
   "outputs": [],
   "source": [
    " def vectorialScore(q,d):\n",
    "    dr = stemmer.getTextRepresentation(d)\n",
    "    qr = stemmer.getTextRepresentation(q)\n",
    "    s = 0\n",
    "    for k in qr.keys():\n",
    "        if k in dr.keys():\n",
    "            s += dr[k]*qr[k]\n",
    "    return s"
   ]
  },
  {
   "cell_type": "code",
   "execution_count": 23,
   "metadata": {},
   "outputs": [
    {
     "data": {
      "text/plain": [
       "1"
      ]
     },
     "execution_count": 23,
     "metadata": {},
     "output_type": "execute_result"
    }
   ],
   "source": [
    "booleanScore(q,Documents[0])"
   ]
  },
  {
   "cell_type": "code",
   "execution_count": 24,
   "metadata": {},
   "outputs": [
    {
     "data": {
      "text/plain": [
       "2"
      ]
     },
     "execution_count": 24,
     "metadata": {},
     "output_type": "execute_result"
    }
   ],
   "source": [
    "vectorialScore(q,Documents[0])\n",
    "dr = stemmer.getTextRepresentation(d)"
   ]
  },
  {
   "cell_type": "code",
   "execution_count": 27,
   "metadata": {},
   "outputs": [],
   "source": [
    "class Weighter:\n",
    "\n",
    "    def __init__(self,index):\n",
    "        self.index = index\n",
    "\n",
    "    def getWeightsForDoc(idDoc):\n",
    "        pass\n",
    "    \n",
    "    def getWeightsForStem(stem):\n",
    "        pass\n",
    "    \n",
    "    def getWeightsForQuery(query):\n",
    "        pass"
   ]
  },
  {
   "cell_type": "code",
   "execution_count": 29,
   "metadata": {},
   "outputs": [],
   "source": [
    "class Weighter1(Weighter):\n",
    "    def __init__(self,index):\n",
    "        Weighter.__init__(self,index)\n",
    "        \n",
    "    def getWeightsForDoc(idDoc):\n",
    "        return self.index.get_index()[0][idDoc]\n",
    "    \n",
    "    def getWeightsForStem(stem):\n",
    "        return self.index.get_index()[1][stem]\n",
    "    \n",
    "    def getWeightsForQuery(query):\n",
    "        stemmer = PorterStemmer()\n",
    "        return {w : 1 for w in stemmer.getTextRepresentation(query).keys()}"
   ]
  },
  {
   "cell_type": "code",
   "execution_count": 30,
   "metadata": {},
   "outputs": [],
   "source": [
    "class Weighter2(Weighter):\n",
    "    def __init__(self,index):\n",
    "        Weighter.__init__(self,index)\n",
    "        \n",
    "    def getWeightsForDoc(idDoc):\n",
    "        return self.index.get_index()[0][idDoc]\n",
    "    \n",
    "    def getWeightsForStem(stem):\n",
    "        return self.index.get_index()[1][stem]\n",
    "    \n",
    "    def getWeightsForQuery(query):\n",
    "        stemmer = PorterStemmer()\n",
    "        return stemmer.getTextRepresentation(query)"
   ]
  },
  {
   "cell_type": "code",
   "execution_count": 36,
   "metadata": {},
   "outputs": [],
   "source": [
    "class Weighter3(Weighter):\n",
    "    def __init__(self,index):\n",
    "        Weighter.__init__(self,index)\n",
    "        \n",
    "    def getWeightsForDoc(idDoc):\n",
    "        return self.index.get_index()[0][idDoc]\n",
    "    \n",
    "    def getWeightsForStem(stem):\n",
    "        return self.index.get_index()[1][stem]\n",
    "    \n",
    "    def getWeightsForQuery(query):\n",
    "        stemmer = PorterStemmer()\n",
    "        return {w : self.index.idf(w) for w in stemmer.getTextRepresentation(query).keys()}"
   ]
  },
  {
   "cell_type": "code",
   "execution_count": 37,
   "metadata": {},
   "outputs": [],
   "source": [
    "class Weighter4(Weighter):\n",
    "    def __init__(self,index):\n",
    "        Weighter.__init__(self,index)\n",
    "        \n",
    "    def getWeightsForDoc(idDoc):\n",
    "        return [1 + np.log(self.index.get_index()[0][idDoc][t]) for t in self.index.get_index()[0][idDoc]]\n",
    "    \n",
    "    def getWeightsForStem(stem):\n",
    "        return self.index.get_index()[1][stem]\n",
    "    \n",
    "    def getWeightsForQuery(query):\n",
    "        stemmer = PorterStemmer()\n",
    "        return {w : self.index.idf(w) for w in stemmer.getTextRepresentation(query).keys()}"
   ]
  },
  {
   "cell_type": "code",
   "execution_count": 39,
   "metadata": {},
   "outputs": [],
   "source": [
    "class Weighter4(Weighter):\n",
    "    def __init__(self,index):\n",
    "        Weighter.__init__(self,index)\n",
    "        \n",
    "    def getWeightsForDoc(idDoc):\n",
    "        return [1 + np.log(self.index.get_index()[0][idDoc][t]) * self.index.idf(t)  for t in self.index.get_index()[0][idDoc]]\n",
    "    \n",
    "    def getWeightsForStem(stem):\n",
    "        return self.index.get_index()[1][stem]\n",
    "    \n",
    "    def getWeightsForQuery(query):\n",
    "        stemmer = PorterStemmer()\n",
    "        return {w : self.index.idf(w) * (1+np.log(stemmer.getTextRepresentation(query)[w])) for w in stemmer.getTextRepresentation(query).keys()}"
   ]
  },
  {
   "cell_type": "code",
   "execution_count": null,
   "metadata": {},
   "outputs": [],
   "source": [
    " def vectorialCosinusScore(q,d):\n",
    "    dr = stemmer.getTextRepresentation(d)\n",
    "    qr = stemmer.getTextRepresentation(q)\n",
    "    s = 0\n",
    "    for k in qr.keys():\n",
    "        if k in dr.keys():\n",
    "            s += dr[k]*qr[k]\n",
    "            s1 += dr[k]**2\n",
    "            s2 += qr[k]**2\n",
    "    return s/(np.sqrt(s1)+np.sqrt(s2))"
   ]
  },
  {
   "cell_type": "code",
   "execution_count": null,
   "metadata": {},
   "outputs": [],
   "source": [
    "class IRModel:\n",
    "\n",
    "    def __init__(self,index):\n",
    "        self.index = index\n",
    "\n",
    "    def getScores(query):\n",
    "        pass\n",
    "    \n",
    "    def getRanking(query):\n",
    "        pass\n",
    "    \n",
    "class Vectoriel(IRModel):\n",
    "    def __init__(self,index,weighter,normalized):\n",
    "        self.index = index\n",
    "        self.weighter = weighter\n",
    "        self.normalized = normalized\n",
    "        \n",
    "    def getScores(query):\n",
    "        r = []\n",
    "        if normalized :\n",
    "            for d in self.index.get_docs():\n",
    "                r.append(vectorialCosinusScore(query,self.index.getStrDoc(d)))\n",
    "        else :\n",
    "            #produit scalaire\n",
    "            for d in self.index.get_docs():\n",
    "                r.append(vectorialScore(query,self.index.getStrDoc(d)))\n",
    "        return r\n",
    "        "
   ]
  },
  {
   "cell_type": "code",
   "execution_count": null,
   "metadata": {},
   "outputs": [],
   "source": [
    "class ModeleLangue(IRModel):\n",
    "    def __init__(self,index,lamb):\n",
    "        super().__init__(index)\n",
    "        self.lamb = lamb\n",
    "    \n",
    "    def getScores(query):\n",
    "        r = []\n",
    "        for d in self.index.get_docs():\n",
    "            a = 1\n",
    "            for q in query.keys():\n",
    "                if q in self.index.get_index[0][d.get_id()].keys():\n",
    "                    doc = self.index.get_index[0][d.get_id()]\n",
    "                    a *= (1-self.lamb)* (doc[q]/sum(doc.values()) + self.lamb * self.index.get_index[1][q]\n",
    "                else :\n",
    "                                        \n",
    "                    a *= self.lamb * (sum(self.index.get_index[1][q].values())/\n",
    "        pt = []\n",
    "        for q in query.keys():\n",
    "            r *= (1-self.lamb)*query[]\n",
    "    "
   ]
  }
 ],
 "metadata": {
  "file_extension": ".py",
  "kernelspec": {
   "display_name": "Python 3",
   "language": "python",
   "name": "python3"
  },
  "language_info": {
   "codemirror_mode": {
    "name": "ipython",
    "version": 3
   },
   "file_extension": ".py",
   "mimetype": "text/x-python",
   "name": "python",
   "nbconvert_exporter": "python",
   "pygments_lexer": "ipython3",
   "version": "3.7.3"
  },
  "mimetype": "text/x-python",
  "name": "python",
  "npconvert_exporter": "python",
  "pygments_lexer": "ipython3",
  "version": 3
 },
 "nbformat": 4,
 "nbformat_minor": 2
}
