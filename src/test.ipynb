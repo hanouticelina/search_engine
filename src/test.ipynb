{
 "cells": [
  {
   "cell_type": "code",
   "execution_count": 7,
   "metadata": {
    "ExecuteTime": {
     "end_time": "2020-02-06T19:36:27.821105Z",
     "start_time": "2020-02-06T19:36:27.777420Z"
    }
   },
   "outputs": [],
   "source": [
    "import numpy as np\n",
    "import utils.porter as pt\n",
    "import Parser as parse\n",
    "import TextRepresenter as tr\n",
    "import collections\n",
    "import Index as ind\n",
    "%load_ext autoreload\n",
    "%autoreload 2"
   ]
  },
  {
   "cell_type": "code",
   "execution_count": 8,
   "metadata": {
    "ExecuteTime": {
     "end_time": "2020-02-06T19:36:28.860758Z",
     "start_time": "2020-02-06T19:36:28.841890Z"
    }
   },
   "outputs": [],
   "source": [
    "Documents = ['the new home has been saled on top forecasts','the home sales rise in july', 'there is an increase in home sales in july',' july encounter a new home sales rise']"
   ]
  },
  {
   "cell_type": "code",
   "execution_count": 12,
   "metadata": {
    "ExecuteTime": {
     "end_time": "2020-02-06T19:37:01.637005Z",
     "start_time": "2020-02-06T19:37:01.289308Z"
    }
   },
   "outputs": [],
   "source": [
    "parser = parse.Parser()\n",
    "parsed = parser.buildDocCollectionSimple(\"../data/cacm/cacm.txt\")"
   ]
  },
  {
   "cell_type": "code",
   "execution_count": 13,
   "metadata": {
    "ExecuteTime": {
     "end_time": "2020-02-06T19:37:04.243670Z",
     "start_time": "2020-02-06T19:37:04.221004Z"
    }
   },
   "outputs": [],
   "source": [
    "d = parser.get_collection()"
   ]
  },
  {
   "cell_type": "code",
   "execution_count": 18,
   "metadata": {
    "ExecuteTime": {
     "end_time": "2020-02-06T19:39:29.117846Z",
     "start_time": "2020-02-06T19:39:28.268159Z"
    }
   },
   "outputs": [
    {
     "ename": "KeyError",
     "evalue": "'preliminari'",
     "output_type": "error",
     "traceback": [
      "\u001b[0;31m---------------------------------------------------------------------------\u001b[0m",
      "\u001b[0;31mKeyError\u001b[0m                                  Traceback (most recent call last)",
      "\u001b[0;32m<ipython-input-18-93a0b0439e97>\u001b[0m in \u001b[0;36m<module>\u001b[0;34m\u001b[0m\n\u001b[0;32m----> 1\u001b[0;31m \u001b[0mindex\u001b[0m \u001b[0;34m=\u001b[0m \u001b[0mind\u001b[0m\u001b[0;34m.\u001b[0m\u001b[0mIndexerSimple\u001b[0m\u001b[0;34m(\u001b[0m\u001b[0mparser\u001b[0m\u001b[0;34m.\u001b[0m\u001b[0mcollection\u001b[0m\u001b[0;34m)\u001b[0m\u001b[0;34m\u001b[0m\u001b[0;34m\u001b[0m\u001b[0m\n\u001b[0m",
      "\u001b[0;32m~/S2/RITAL/Index/search_engine/src/Index.py\u001b[0m in \u001b[0;36m__init__\u001b[0;34m(self, docs)\u001b[0m\n\u001b[1;32m     22\u001b[0m         \u001b[0mself\u001b[0m\u001b[0;34m.\u001b[0m\u001b[0mtf_idf\u001b[0m \u001b[0;34m=\u001b[0m \u001b[0;32mNone\u001b[0m\u001b[0;34m\u001b[0m\u001b[0;34m\u001b[0m\u001b[0m\n\u001b[1;32m     23\u001b[0m         \u001b[0mself\u001b[0m\u001b[0;34m.\u001b[0m\u001b[0mindexer\u001b[0m\u001b[0;34m(\u001b[0m\u001b[0;34m)\u001b[0m\u001b[0;34m\u001b[0m\u001b[0;34m\u001b[0m\u001b[0m\n\u001b[0;32m---> 24\u001b[0;31m         \u001b[0mself\u001b[0m\u001b[0;34m.\u001b[0m\u001b[0mcompute_tf_idf\u001b[0m\u001b[0;34m(\u001b[0m\u001b[0;34m)\u001b[0m\u001b[0;34m\u001b[0m\u001b[0;34m\u001b[0m\u001b[0m\n\u001b[0m\u001b[1;32m     25\u001b[0m \u001b[0;34m\u001b[0m\u001b[0m\n\u001b[1;32m     26\u001b[0m     \u001b[0;32mdef\u001b[0m \u001b[0mget_index\u001b[0m\u001b[0;34m(\u001b[0m\u001b[0mself\u001b[0m\u001b[0;34m)\u001b[0m\u001b[0;34m:\u001b[0m\u001b[0;34m\u001b[0m\u001b[0;34m\u001b[0m\u001b[0m\n",
      "\u001b[0;32m~/S2/RITAL/Index/search_engine/src/Index.py\u001b[0m in \u001b[0;36mcompute_tf_idf\u001b[0;34m(self)\u001b[0m\n\u001b[1;32m     50\u001b[0m         \u001b[0;32mfor\u001b[0m \u001b[0mword\u001b[0m \u001b[0;32min\u001b[0m \u001b[0mself\u001b[0m\u001b[0;34m.\u001b[0m\u001b[0mdf\u001b[0m\u001b[0;34m.\u001b[0m\u001b[0mkeys\u001b[0m\u001b[0;34m(\u001b[0m\u001b[0;34m)\u001b[0m\u001b[0;34m:\u001b[0m\u001b[0;34m\u001b[0m\u001b[0;34m\u001b[0m\u001b[0m\n\u001b[1;32m     51\u001b[0m             \u001b[0;32mfor\u001b[0m \u001b[0;34m(\u001b[0m\u001b[0mi\u001b[0m\u001b[0;34m,\u001b[0m\u001b[0md\u001b[0m\u001b[0;34m)\u001b[0m \u001b[0;32min\u001b[0m \u001b[0mself\u001b[0m\u001b[0;34m.\u001b[0m\u001b[0mdocs\u001b[0m\u001b[0;34m.\u001b[0m\u001b[0mitems\u001b[0m\u001b[0;34m(\u001b[0m\u001b[0;34m)\u001b[0m\u001b[0;34m:\u001b[0m\u001b[0;34m\u001b[0m\u001b[0;34m\u001b[0m\u001b[0m\n\u001b[0;32m---> 52\u001b[0;31m                 \u001b[0mself\u001b[0m\u001b[0;34m.\u001b[0m\u001b[0mtf_idf\u001b[0m\u001b[0;34m[\u001b[0m\u001b[0mword\u001b[0m\u001b[0;34m]\u001b[0m\u001b[0;34m[\u001b[0m\u001b[0mi\u001b[0m\u001b[0;34m]\u001b[0m \u001b[0;34m=\u001b[0m \u001b[0mself\u001b[0m\u001b[0;34m.\u001b[0m\u001b[0mindex\u001b[0m\u001b[0;34m[\u001b[0m\u001b[0mi\u001b[0m\u001b[0;34m]\u001b[0m\u001b[0;34m[\u001b[0m\u001b[0mword\u001b[0m\u001b[0;34m]\u001b[0m \u001b[0;34m*\u001b[0m \u001b[0mself\u001b[0m\u001b[0;34m.\u001b[0m\u001b[0midf\u001b[0m\u001b[0;34m(\u001b[0m\u001b[0mword\u001b[0m\u001b[0;34m)\u001b[0m\u001b[0;34m\u001b[0m\u001b[0;34m\u001b[0m\u001b[0m\n\u001b[0m\u001b[1;32m     53\u001b[0m \u001b[0;34m\u001b[0m\u001b[0m\n\u001b[1;32m     54\u001b[0m     \u001b[0;32mdef\u001b[0m \u001b[0mgetStrDoc\u001b[0m\u001b[0;34m(\u001b[0m\u001b[0mself\u001b[0m\u001b[0;34m,\u001b[0m\u001b[0mdoc\u001b[0m\u001b[0;34m)\u001b[0m\u001b[0;34m:\u001b[0m\u001b[0;34m\u001b[0m\u001b[0;34m\u001b[0m\u001b[0m\n",
      "\u001b[0;31mKeyError\u001b[0m: 'preliminari'"
     ]
    }
   ],
   "source": [
    "index = ind.IndexerSimple(parser.collection)"
   ]
  },
  {
   "cell_type": "code",
   "execution_count": 103,
   "metadata": {
    "ExecuteTime": {
     "end_time": "2020-02-06T17:48:57.193873Z",
     "start_time": "2020-02-06T17:48:57.170339Z"
    }
   },
   "outputs": [
    {
     "name": "stdout",
     "output_type": "stream",
     "text": [
      "{0: {'preliminari': 1, 'report': 1, 'intern': 1, 'algebra': 1, 'languag': 1, 'jgkfldjgfkld': 1}, 1: {'extract': 1, 'root': 1, 'repeat': 1, 'subtract': 1, 'digit': 1, 'comput': 1}, 2: {'techniqu': 1, 'depart': 1, 'matrix': 1, 'program': 1, 'scheme': 1}, 3: {'glossari': 1, 'comput': 1, 'engin': 1, 'programm': 1, 'terminolog': 1}, 4: {'squar': 1, 'root': 1, 'approxim': 1}, 5: {'comput': 1, 'inspect': 1, 'procedur': 1}, 6: {'glossari': 1, 'comput': 1, 'engin': 1, 'programm': 1, 'terminolog': 1}, 7: {'equival': 1, 'transform': 1, 'program': 1, 'scheme': 1}, 8: {'propos': 1, 'uncol': 1}, 9: {'glossari': 1, 'comput': 1, 'engin': 1, 'programm': 1, 'terminolog': 1}, 10: {'problem': 1, 'programm': 1, 'commun': 1, 'chang': 1, 'machin': 1, 'propos': 1, 'solut': 1, '2': 1}}\n"
     ]
    }
   ],
   "source": [
    "print(index.index)"
   ]
  },
  {
   "cell_type": "code",
   "execution_count": 125,
   "metadata": {
    "ExecuteTime": {
     "end_time": "2020-02-06T17:59:43.680441Z",
     "start_time": "2020-02-06T17:59:43.598304Z"
    }
   },
   "outputs": [
    {
     "name": "stdout",
     "output_type": "stream",
     "text": [
      "dict_keys([0, 1, 2, 3, 4, 5, 6, 7, 8, 9, 10])\n",
      "dict_keys([0, 1, 2, 3, 4, 5, 6, 7, 8, 9, 10])\n",
      "dict_keys([0, 1, 2, 3, 4, 5, 6, 7, 8, 9, 10])\n",
      "dict_keys([0, 1, 2, 3, 4, 5, 6, 7, 8, 9, 10])\n",
      "dict_keys([0, 1, 2, 3, 4, 5, 6, 7, 8, 9, 10])\n",
      "dict_keys([0, 1, 2, 3, 4, 5, 6, 7, 8, 9, 10])\n",
      "dict_keys([0, 1, 2, 3, 4, 5, 6, 7, 8, 9, 10])\n",
      "dict_keys([0, 1, 2, 3, 4, 5, 6, 7, 8, 9, 10])\n",
      "dict_keys([0, 1, 2, 3, 4, 5, 6, 7, 8, 9, 10])\n",
      "dict_keys([0, 1, 2, 3, 4, 5, 6, 7, 8, 9, 10])\n",
      "dict_keys([0, 1, 2, 3, 4, 5, 6, 7, 8, 9, 10])\n"
     ]
    },
    {
     "data": {
      "text/plain": [
       "{0: {'preliminari': 1.791759469228055,\n",
       "  'report': 1.791759469228055,\n",
       "  'intern': 1.791759469228055,\n",
       "  'algebra': 1.791759469228055,\n",
       "  'languag': 1.791759469228055,\n",
       "  'jgkfldjgfkld': 1.791759469228055},\n",
       " 1: {'extract': 1.791759469228055,\n",
       "  'root': 1.3862943611198906,\n",
       "  'repeat': 1.791759469228055,\n",
       "  'subtract': 1.791759469228055,\n",
       "  'digit': 1.791759469228055,\n",
       "  'comput': 0.6931471805599453},\n",
       " 2: {'techniqu': 1.791759469228055,\n",
       "  'depart': 1.791759469228055,\n",
       "  'matrix': 1.791759469228055,\n",
       "  'program': 1.3862943611198906,\n",
       "  'scheme': 1.3862943611198906},\n",
       " 3: {'glossari': 1.0986122886681098,\n",
       "  'comput': 0.6931471805599453,\n",
       "  'engin': 1.0986122886681098,\n",
       "  'programm': 0.8754687373538999,\n",
       "  'terminolog': 1.0986122886681098},\n",
       " 4: {'squar': 1.791759469228055,\n",
       "  'root': 1.3862943611198906,\n",
       "  'approxim': 1.791759469228055},\n",
       " 5: {'comput': 0.6931471805599453,\n",
       "  'inspect': 1.791759469228055,\n",
       "  'procedur': 1.791759469228055},\n",
       " 6: {'glossari': 1.0986122886681098,\n",
       "  'comput': 0.6931471805599453,\n",
       "  'engin': 1.0986122886681098,\n",
       "  'programm': 0.8754687373538999,\n",
       "  'terminolog': 1.0986122886681098},\n",
       " 7: {'equival': 1.791759469228055,\n",
       "  'transform': 1.791759469228055,\n",
       "  'program': 1.3862943611198906,\n",
       "  'scheme': 1.3862943611198906},\n",
       " 8: {'propos': 1.3862943611198906, 'uncol': 1.791759469228055},\n",
       " 9: {'glossari': 1.0986122886681098,\n",
       "  'comput': 0.6931471805599453,\n",
       "  'engin': 1.0986122886681098,\n",
       "  'programm': 0.8754687373538999,\n",
       "  'terminolog': 1.0986122886681098},\n",
       " 10: {'problem': 1.791759469228055,\n",
       "  'programm': 0.8754687373538999,\n",
       "  'commun': 1.791759469228055,\n",
       "  'chang': 1.791759469228055,\n",
       "  'machin': 1.791759469228055,\n",
       "  'propos': 1.3862943611198906,\n",
       "  'solut': 1.791759469228055,\n",
       "  '2': 1.791759469228055}}"
      ]
     },
     "execution_count": 125,
     "metadata": {},
     "output_type": "execute_result"
    }
   ],
   "source": [
    "index.create_tf_idf()"
   ]
  },
  {
   "cell_type": "code",
   "execution_count": null,
   "metadata": {},
   "outputs": [],
   "source": []
  }
 ],
 "metadata": {
  "file_extension": ".py",
  "kernelspec": {
   "display_name": "Python 3",
   "language": "python",
   "name": "python3"
  },
  "language_info": {
   "codemirror_mode": {
    "name": "ipython",
    "version": 3
   },
   "file_extension": ".py",
   "mimetype": "text/x-python",
   "name": "python",
   "nbconvert_exporter": "python",
   "pygments_lexer": "ipython3",
   "version": "3.7.3"
  },
  "mimetype": "text/x-python",
  "name": "python",
  "npconvert_exporter": "python",
  "pygments_lexer": "ipython3",
  "version": 3
 },
 "nbformat": 4,
 "nbformat_minor": 2
}
