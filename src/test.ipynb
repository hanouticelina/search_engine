{
 "cells": [
  {
   "cell_type": "code",
   "execution_count": 11,
   "metadata": {
    "ExecuteTime": {
     "end_time": "2020-02-09T14:13:12.687804Z",
     "start_time": "2020-02-09T14:13:12.656618Z"
    }
   },
   "outputs": [
    {
     "name": "stdout",
     "output_type": "stream",
     "text": [
      "The autoreload extension is already loaded. To reload it, use:\n",
      "  %reload_ext autoreload\n"
     ]
    }
   ],
   "source": [
    "import numpy as np\n",
    "import utils.porter as pt\n",
    "import Parser as parse\n",
    "import TextRepresenter as tr\n",
    "import collections\n",
    "import Index as ind\n",
    "%load_ext autoreload\n",
    "%autoreload 2"
   ]
  },
  {
   "cell_type": "code",
   "execution_count": 12,
   "metadata": {
    "ExecuteTime": {
     "end_time": "2020-02-09T14:13:13.030026Z",
     "start_time": "2020-02-09T14:13:12.994465Z"
    }
   },
   "outputs": [],
   "source": [
    "Documents = ['the new home has been saled on top forecasts','the home sales rise in july', 'there is an increase in home sales in july',' july encounter a new home sales rise']"
   ]
  },
  {
   "cell_type": "code",
   "execution_count": 13,
   "metadata": {
    "ExecuteTime": {
     "end_time": "2020-02-09T14:13:13.475974Z",
     "start_time": "2020-02-09T14:13:13.431382Z"
    }
   },
   "outputs": [],
   "source": [
    "file = \"../cacmShort-good.txt\"\n",
    "try:\n",
    "    parser = parse.Parser()\n",
    "    _ = parser.buildDocCollectionSimple(file)\n",
    "except FileNotFoundError:\n",
    "    print(\"le fichier est introuvable\")\n",
    "\n",
    "indexer = ind.IndexerSimple(parser.collection)\n",
    "index, inv_index = indexer.get_index()"
   ]
  },
  {
   "cell_type": "code",
   "execution_count": 15,
   "metadata": {
    "ExecuteTime": {
     "end_time": "2020-02-09T14:13:35.685111Z",
     "start_time": "2020-02-09T14:13:22.964916Z"
    }
   },
   "outputs": [
    {
     "name": "stdout",
     "output_type": "stream",
     "text": [
      "4202\n"
     ]
    }
   ],
   "source": [
    "file = \"../data/cacm/cacm.txt\"\n",
    "try:\n",
    "    parser = parse.Parser()\n",
    "    _ = parser.buildDocCollectionSimple(file)\n",
    "except FileNotFoundError:\n",
    "    print(\"le fichier est introuvable\")\n",
    "\n",
    "indexer = ind.IndexerSimple(parser.collection)\n",
    "index, inv_index = indexer.get_index()\n",
    "print(len(index))"
   ]
  },
  {
   "cell_type": "code",
   "execution_count": 17,
   "metadata": {
    "ExecuteTime": {
     "end_time": "2020-02-09T14:14:47.667847Z",
     "start_time": "2020-02-09T14:14:20.560777Z"
    }
   },
   "outputs": [
    {
     "name": "stdout",
     "output_type": "stream",
     "text": [
      "2459\n"
     ]
    }
   ],
   "source": [
    "file = \"../data/cisi/cisi.txt\"\n",
    "try:\n",
    "    parser = parse.Parser()\n",
    "    _ = parser.buildDocCollectionSimple(file,balise='.W')\n",
    "except FileNotFoundError:\n",
    "    print(\"le fichier est introuvable\")\n",
    "\n",
    "indexer = ind.IndexerSimple(parser.collection)\n",
    "index, inv_index = indexer.get_index()\n",
    "print(len(index))"
   ]
  },
  {
   "cell_type": "code",
   "execution_count": null,
   "metadata": {},
   "outputs": [],
   "source": []
  }
 ],
 "metadata": {
  "file_extension": ".py",
  "kernelspec": {
   "display_name": "Python 3",
   "language": "python",
   "name": "python3"
  },
  "language_info": {
   "codemirror_mode": {
    "name": "ipython",
    "version": 3
   },
   "file_extension": ".py",
   "mimetype": "text/x-python",
   "name": "python",
   "nbconvert_exporter": "python",
   "pygments_lexer": "ipython3",
   "version": "3.7.3"
  },
  "mimetype": "text/x-python",
  "name": "python",
  "npconvert_exporter": "python",
  "pygments_lexer": "ipython3",
  "version": 3
 },
 "nbformat": 4,
 "nbformat_minor": 2
}
