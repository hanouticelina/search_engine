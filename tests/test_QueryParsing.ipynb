{
 "cells": [
  {
   "cell_type": "code",
   "execution_count": 10,
   "metadata": {
    "ExecuteTime": {
     "end_time": "2020-05-07T20:13:33.268496Z",
     "start_time": "2020-05-07T20:13:33.230299Z"
    }
   },
   "outputs": [
    {
     "name": "stdout",
     "output_type": "stream",
     "text": [
      "The autoreload extension is already loaded. To reload it, use:\n",
      "  %reload_ext autoreload\n"
     ]
    }
   ],
   "source": [
    "import numpy as np\n",
    "import matplotlib.pyplot as plt\n",
    "import sys\n",
    "sys.path.insert(0, '../src')\n",
    "from imports import *\n",
    "%load_ext autoreload\n",
    "%autoreload 2"
   ]
  },
  {
   "cell_type": "code",
   "execution_count": 11,
   "metadata": {
    "ExecuteTime": {
     "end_time": "2020-05-07T20:27:16.871029Z",
     "start_time": "2020-05-07T20:27:16.854547Z"
    }
   },
   "outputs": [],
   "source": [
    "pathcisi = \"../data/cisi/cisi\"\n",
    "pathcacm = \"../data/cacm/cacm\""
   ]
  },
  {
   "cell_type": "code",
   "execution_count": 12,
   "metadata": {
    "ExecuteTime": {
     "end_time": "2020-05-07T20:28:12.049992Z",
     "start_time": "2020-05-07T20:28:12.013535Z"
    }
   },
   "outputs": [],
   "source": [
    "def displayQueries(path):\n",
    "    try:\n",
    "        queryParser = QueryParser(path)\n",
    "    except FileNotFoundError:\n",
    "        print(\"le fichier est introuvable\")\n",
    "    queries = queryParser.get_queries()\n",
    "    for (idQ, query) in queries.items():\n",
    "        print(\" Query {} : \".format(idQ))\n",
    "        print(\"\\t text : {}\".format(query.get_text()))\n",
    "        print(\"\\t Relevant documents for this query : {}\".format(query.get_relevants()))\n",
    "        print('****************************************************')\n",
    "    return queryParser"
   ]
  },
  {
   "cell_type": "markdown",
   "metadata": {},
   "source": [
    "### Corpus CACM"
   ]
  },
  {
   "cell_type": "code",
   "execution_count": 5,
   "metadata": {
    "ExecuteTime": {
     "end_time": "2020-05-07T20:28:12.556344Z",
     "start_time": "2020-05-07T20:28:12.486283Z"
    }
   },
   "outputs": [],
   "source": [
    "# décommenter la ligne suivante pour afficher les requetes et leurs documents pertinents.\n",
    "#queryParser = displayQueries(pathcacm)"
   ]
  },
  {
   "cell_type": "markdown",
   "metadata": {},
   "source": [
    "### Corpus CISI"
   ]
  },
  {
   "cell_type": "code",
   "execution_count": 7,
   "metadata": {
    "ExecuteTime": {
     "end_time": "2020-05-07T20:28:26.140894Z",
     "start_time": "2020-05-07T20:28:26.094642Z"
    }
   },
   "outputs": [],
   "source": [
    "# décommenter la ligne suivante pour afficher les requetes et leurs documents pertinents.\n",
    "#queryParser = displayQueries(pathcisi)"
   ]
  },
  {
   "cell_type": "code",
   "execution_count": null,
   "metadata": {},
   "outputs": [],
   "source": []
  }
 ],
 "metadata": {
  "kernelspec": {
   "display_name": "Python 3",
   "language": "python",
   "name": "python3"
  },
  "language_info": {
   "codemirror_mode": {
    "name": "ipython",
    "version": 3
   },
   "file_extension": ".py",
   "mimetype": "text/x-python",
   "name": "python",
   "nbconvert_exporter": "python",
   "pygments_lexer": "ipython3",
   "version": "3.7.6"
  }
 },
 "nbformat": 4,
 "nbformat_minor": 4
}
