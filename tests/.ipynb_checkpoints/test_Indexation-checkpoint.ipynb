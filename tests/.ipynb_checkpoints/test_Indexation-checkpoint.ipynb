{
 "cells": [
  {
   "cell_type": "code",
   "execution_count": 2,
   "metadata": {
    "ExecuteTime": {
     "end_time": "2020-05-07T21:42:12.176679Z",
     "start_time": "2020-05-07T21:42:12.007578Z"
    }
   },
   "outputs": [],
   "source": [
    "import numpy as np\n",
    "import matplotlib.pyplot as plt\n",
    "import sys\n",
    "sys.path.insert(0, '../src')\n",
    "from imports import *"
   ]
  },
  {
   "cell_type": "code",
   "execution_count": 3,
   "metadata": {
    "ExecuteTime": {
     "end_time": "2020-05-07T21:04:37.231321Z",
     "start_time": "2020-05-07T21:04:37.199906Z"
    }
   },
   "outputs": [],
   "source": [
    "pathcacm = \"../data/cacm/cacm\"\n",
    "pathcisi = \"../data/cisi/cisi\""
   ]
  },
  {
   "cell_type": "code",
   "execution_count": 4,
   "metadata": {
    "ExecuteTime": {
     "end_time": "2020-05-07T22:09:32.058389Z",
     "start_time": "2020-05-07T22:09:32.036801Z"
    }
   },
   "outputs": [],
   "source": [
    "def test_CACMShort(normalized = False, verbose=False, balise_fac = None):\n",
    "    corpus_path = '../cacmShort-good.txt'\n",
    "    champs = None\n",
    "    parser = None\n",
    "    try:\n",
    "        parser = Parser()\n",
    "        parser.buildDocCollectionSimple(corpus_path,balise_fac=balise_fac)\n",
    "    except FileNotFoundError:\n",
    "        print(\"le fichier est introuvable\")\n",
    "\n",
    "    indexer = IndexerSimple(parser.collection)\n",
    "    index, inv_index = indexer.get_index(normalized)\n",
    "    if verbose:\n",
    "        print(\"Index : \\n {}\".format(index))\n",
    "        print(\"------------------------------\")\n",
    "        print(\"Index inversé : \\n {}\".format(inv_index))\n",
    "\n",
    "    tf_idf = indexer.compute_tf_idf()\n",
    "\n",
    "    # tfidf à la même structure que ind\n",
    "    assert tf_idf.keys() == index.keys()\n",
    "    for i_doc in tf_idf.keys():\n",
    "        assert tf_idf[i_doc].keys() == index[i_doc].keys()\n",
    "    #print(indexer.getStrDoc('6'))\n",
    "    return parser, indexer\n",
    "def parsing(path, balise=\".T\", balise_fac = None):\n",
    "    champs = None\n",
    "    parser = None\n",
    "    try:\n",
    "        parser = Parser()\n",
    "        parser.buildDocCollectionSimple(path+\".txt\", balise=balise, balise_fac=balise_fac)\n",
    "    except FileNotFoundError:\n",
    "        print(\"le fichier est introuvable\")\n",
    "\n",
    "    indexer = IndexerSimple(parser.collection)\n",
    "    return parser,indexer"
   ]
  },
  {
   "cell_type": "code",
   "execution_count": 5,
   "metadata": {
    "ExecuteTime": {
     "end_time": "2020-05-07T22:09:48.610302Z",
     "start_time": "2020-05-07T22:09:48.571299Z"
    }
   },
   "outputs": [
    {
     "name": "stdout",
     "output_type": "stream",
     "text": [
      "L'indexation a été effectuée avec succès ! taille du corpus : 11\n"
     ]
    }
   ],
   "source": [
    "parser, indexer = test_CACMShort(normalized=False)"
   ]
  },
  {
   "cell_type": "code",
   "execution_count": 6,
   "metadata": {},
   "outputs": [
    {
     "data": {
      "text/plain": [
       "{1: {'preliminari': 1,\n",
       "  'report': 1,\n",
       "  'intern': 1,\n",
       "  'algebra': 1,\n",
       "  'languag': 1,\n",
       "  'jgkfldjgfkld': 1},\n",
       " 2: {'extract': 1,\n",
       "  'root': 1,\n",
       "  'repeat': 1,\n",
       "  'subtract': 1,\n",
       "  'digit': 1,\n",
       "  'comput': 1},\n",
       " 3: {'techniqu': 1, 'depart': 1, 'matrix': 1, 'program': 1, 'scheme': 1},\n",
       " 4: {'glossari': 1, 'comput': 1, 'engin': 1, 'programm': 1, 'terminolog': 1},\n",
       " 5: {'squar': 1, 'root': 1, 'approxim': 1},\n",
       " 6: {'comput': 1, 'inspect': 1, 'procedur': 1},\n",
       " 7: {'glossari': 1, 'comput': 1, 'engin': 1, 'programm': 1, 'terminolog': 1},\n",
       " 8: {'equival': 1, 'transform': 1, 'program': 1, 'scheme': 1},\n",
       " 9: {'propos': 1, 'uncol': 1},\n",
       " 10: {'glossari': 1, 'comput': 1, 'engin': 1, 'programm': 1, 'terminolog': 1},\n",
       " 11: {'problem': 1,\n",
       "  'programm': 1,\n",
       "  'commun': 1,\n",
       "  'chang': 1,\n",
       "  'machin': 1,\n",
       "  'propos': 1,\n",
       "  'solut': 1,\n",
       "  '2': 1}}"
      ]
     },
     "execution_count": 6,
     "metadata": {},
     "output_type": "execute_result"
    }
   ],
   "source": [
    "indexer.get_index()[0]"
   ]
  },
  {
   "cell_type": "code",
   "execution_count": 7,
   "metadata": {
    "ExecuteTime": {
     "end_time": "2020-05-07T22:09:49.097411Z",
     "start_time": "2020-05-07T22:09:49.036963Z"
    }
   },
   "outputs": [
    {
     "name": "stdout",
     "output_type": "stream",
     "text": [
      "Document : 1\n",
      "\n",
      "Text : Preliminary Report-International Algebraic Language jgkfldjgfkld\n",
      "Hyperliens : None\n",
      "Other : None\n",
      "*************************************************\n",
      "Document : 2\n",
      "\n",
      "Text : Extraction of Roots by Repeated Subtractions for Digital Computers\n",
      "Hyperliens : None\n",
      "Other : None\n",
      "*************************************************\n",
      "Document : 3\n",
      "\n",
      "Text : Techniques Department on Matrix Program Schemes\n",
      "Hyperliens : None\n",
      "Other : None\n",
      "*************************************************\n",
      "Document : 4\n",
      "\n",
      "Text : Glossary of Computer Engineering and Programming Terminology\n",
      "Hyperliens : None\n",
      "Other : None\n",
      "*************************************************\n",
      "Document : 5\n",
      "\n",
      "Text : Two Square-Root Approximations\n",
      "Hyperliens : None\n",
      "Other : None\n",
      "*************************************************\n",
      "Document : 6\n",
      "\n",
      "Text : The Use of Computers in Inspection Procedures\n",
      "Hyperliens : None\n",
      "Other : None\n",
      "*************************************************\n",
      "Document : 7\n",
      "\n",
      "Text : Glossary of Computer Engineering and Programming Terminology\n",
      "Hyperliens : None\n",
      "Other : None\n",
      "*************************************************\n",
      "Document : 8\n",
      "\n",
      "Text : On The Equivalence and Transformation of Program Schemes\n",
      "Hyperliens : None\n",
      "Other : None\n",
      "*************************************************\n",
      "Document : 9\n",
      "\n",
      "Text : Proposal for an UNCOL\n",
      "Hyperliens : None\n",
      "Other : None\n",
      "*************************************************\n",
      "Document : 10\n",
      "\n",
      "Text : Glossary of Computer Engineering and Programming Terminology\n",
      "Hyperliens : None\n",
      "Other : None\n",
      "*************************************************\n",
      "Document : 11\n",
      "\n",
      "Text : The Problem of Programming Communication with Changing Machines A Proposed Solution-Part 2\n",
      "Hyperliens : None\n",
      "Other : None\n",
      "*************************************************\n"
     ]
    }
   ],
   "source": [
    "parser.display()"
   ]
  },
  {
   "cell_type": "code",
   "execution_count": 8,
   "metadata": {
    "ExecuteTime": {
     "end_time": "2020-05-07T22:22:00.428909Z",
     "start_time": "2020-05-07T22:21:47.211003Z"
    }
   },
   "outputs": [
    {
     "name": "stdout",
     "output_type": "stream",
     "text": [
      "L'indexation a été effectuée avec succès ! taille du corpus : 4202\n"
     ]
    }
   ],
   "source": [
    "parser, indexer = parsing(pathcacm)"
   ]
  },
  {
   "cell_type": "code",
   "execution_count": 10,
   "metadata": {
    "ExecuteTime": {
     "end_time": "2020-05-07T22:22:08.046362Z",
     "start_time": "2020-05-07T22:22:04.991850Z"
    }
   },
   "outputs": [],
   "source": [
    "# décommenter la ligne suivante afin d'afficher les requetes du corpus CACM\n",
    "#parser.display()"
   ]
  },
  {
   "cell_type": "code",
   "execution_count": 89,
   "metadata": {
    "ExecuteTime": {
     "end_time": "2020-05-07T22:22:24.928091Z",
     "start_time": "2020-05-07T22:22:18.081367Z"
    }
   },
   "outputs": [
    {
     "name": "stdout",
     "output_type": "stream",
     "text": [
      "L'indexation a été effectuée avec succès ! taille du corpus : 2459\n"
     ]
    }
   ],
   "source": [
    "parser, indexer = parsing(pathcisi)"
   ]
  },
  {
   "cell_type": "code",
   "execution_count": 3,
   "metadata": {
    "ExecuteTime": {
     "end_time": "2020-05-07T22:22:33.289820Z",
     "start_time": "2020-05-07T22:22:31.350166Z"
    }
   },
   "outputs": [],
   "source": [
    "# décommenter la ligne suivante afin d'afficher les requetes du corpus CISI\n",
    "#parser.display()"
   ]
  },
  {
   "cell_type": "code",
   "execution_count": null,
   "metadata": {},
   "outputs": [],
   "source": []
  }
 ],
 "metadata": {
  "kernelspec": {
   "display_name": "Python 3",
   "language": "python",
   "name": "python3"
  },
  "language_info": {
   "codemirror_mode": {
    "name": "ipython",
    "version": 3
   },
   "file_extension": ".py",
   "mimetype": "text/x-python",
   "name": "python",
   "nbconvert_exporter": "python",
   "pygments_lexer": "ipython3",
   "version": "3.7.6"
  }
 },
 "nbformat": 4,
 "nbformat_minor": 4
}
