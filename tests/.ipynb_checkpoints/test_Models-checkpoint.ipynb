{
 "cells": [
  {
   "cell_type": "code",
   "execution_count": 1,
   "metadata": {
    "ExecuteTime": {
     "end_time": "2020-05-07T20:01:12.338322Z",
     "start_time": "2020-05-07T20:01:12.279214Z"
    }
   },
   "outputs": [
    {
     "ename": "ModuleNotFoundError",
     "evalue": "No module named 'imports'",
     "output_type": "error",
     "traceback": [
      "\u001b[0;31m---------------------------------------------------------------------------\u001b[0m",
      "\u001b[0;31mModuleNotFoundError\u001b[0m                       Traceback (most recent call last)",
      "\u001b[0;32m<ipython-input-1-792e14ff4900>\u001b[0m in \u001b[0;36m<module>\u001b[0;34m\u001b[0m\n\u001b[1;32m      2\u001b[0m \u001b[0;32mimport\u001b[0m \u001b[0mmatplotlib\u001b[0m\u001b[0;34m.\u001b[0m\u001b[0mpyplot\u001b[0m \u001b[0;32mas\u001b[0m \u001b[0mplt\u001b[0m\u001b[0;34m\u001b[0m\u001b[0;34m\u001b[0m\u001b[0m\n\u001b[1;32m      3\u001b[0m \u001b[0;34m\u001b[0m\u001b[0m\n\u001b[0;32m----> 4\u001b[0;31m \u001b[0;32mfrom\u001b[0m \u001b[0mimports\u001b[0m \u001b[0;32mimport\u001b[0m \u001b[0;34m*\u001b[0m\u001b[0;34m\u001b[0m\u001b[0;34m\u001b[0m\u001b[0m\n\u001b[0m",
      "\u001b[0;31mModuleNotFoundError\u001b[0m: No module named 'imports'"
     ]
    }
   ],
   "source": [
    "import numpy as np\n",
    "import matplotlib.pyplot as plt\n",
    "import sys\n",
    "sys.path.insert(0, '../src')\n",
    "from imports import *"
   ]
  },
  {
   "cell_type": "code",
   "execution_count": 13,
   "metadata": {},
   "outputs": [],
   "source": [
    "%reload_ext autoreload\n",
    "%autoreload 2"
   ]
  },
  {
   "cell_type": "markdown",
   "metadata": {},
   "source": [
    "# Corpus CACM"
   ]
  },
  {
   "cell_type": "markdown",
   "metadata": {},
   "source": [
    "## Chargement des données et création de l'indexer"
   ]
  },
  {
   "cell_type": "code",
   "execution_count": 14,
   "metadata": {},
   "outputs": [
    {
     "name": "stdout",
     "output_type": "stream",
     "text": [
      "Parsing des requetes effectué avec succès ! Nombre de requetes : 64\n",
      "L'indexation a été effectuée avec succès ! taille du corpus : 4202\n"
     ]
    }
   ],
   "source": [
    "file = \"../data/cacm/cacm\"\n",
    "try:\n",
    "    parser = Parser()\n",
    "    queryParser = QueryParser(file)\n",
    "    _ = parser.buildDocCollectionSimple(file+\".txt\", balise='.T')\n",
    "except FileNotFoundError:\n",
    "    print(\"le fichier est introuvable\")\n",
    "indexer = IndexerSimple(parser.collection)"
   ]
  },
  {
   "cell_type": "code",
   "execution_count": 15,
   "metadata": {
    "ExecuteTime": {
     "end_time": "2020-05-07T20:09:10.856038Z",
     "start_time": "2020-05-07T20:09:10.745260Z"
    }
   },
   "outputs": [],
   "source": [
    "k = 15\n",
    "beta = 1\n",
    "w = Weighter2(indexer)\n",
    "models = {'Vectoriel': Vectoriel.Vectoriel(indexer,w),'OkapiBM25' : OkapiBM25.OkapiBM25(indexer,w), 'LanguageModel' : LanguageModel.LanguageModel(indexer)}\n",
    "mesures = {'PrecisionK' : PrecisionK(k), 'RecallK': RecallK(k), 'FMesureK' : FMesureK(beta,k), 'AveragePrecision' : AveragePrecision(), 'ReciprocalRank' : ReciprocalRank(), 'NDCG' : NDCG(k)}"
   ]
  },
  {
   "cell_type": "markdown",
   "metadata": {},
   "source": [
    "## Mesure : Precision"
   ]
  },
  {
   "cell_type": "code",
   "execution_count": 16,
   "metadata": {},
   "outputs": [
    {
     "name": "stdout",
     "output_type": "stream",
     "text": [
      "\n",
      " Vectoriel : \t mean : 0.31304845328282827 \t-\t std : 0.3815672052190815\n",
      "\n",
      " OkapiBM25 : \t mean : 0.3156171085858586 \t-\t std : 0.37305754252947343\n",
      "\n",
      " LanguageModel : \t mean : 0.20935132575757576 \t-\t std : 0.3836250148564477\n"
     ]
    }
   ],
   "source": [
    "for (name,model) in models.items():\n",
    "    evalModel = EvalIRModel(model, mesures['PrecisionK'])\n",
    "    scores,mean_score, std_score = evalModel.eval(queryParser, verbose=False)\n",
    "    print(\"\\n {} : \\t mean : {} \\t-\\t std : {}\".format(name,mean_score, std_score))"
   ]
  },
  {
   "cell_type": "markdown",
   "metadata": {},
   "source": [
    "## Mesure : FMesure"
   ]
  },
  {
   "cell_type": "code",
   "execution_count": 17,
   "metadata": {},
   "outputs": [
    {
     "name": "stdout",
     "output_type": "stream",
     "text": [
      "\n",
      " Vectoriel : \t mean : 0.3275607151330018 \t-\t std : 0.3768357126617933\n",
      "\n",
      " OkapiBM25 : \t mean : 0.32483790654167666 \t-\t std : 0.36967871905814836\n",
      "\n",
      " LanguageModel : \t mean : 0.21133837523455212 \t-\t std : 0.3825197387053469\n"
     ]
    }
   ],
   "source": [
    "for (name,model) in models.items():\n",
    "    evalModel = EvalIRModel(model, mesures['FMesureK'])\n",
    "    scores,mean_score, std_score = evalModel.eval(queryParser, verbose=False)\n",
    "    print(\"\\n {} : \\t mean : {} \\t-\\t std : {}\".format(name,mean_score, std_score))"
   ]
  },
  {
   "cell_type": "markdown",
   "metadata": {},
   "source": [
    "## Mesure : AveragePrecision"
   ]
  },
  {
   "cell_type": "code",
   "execution_count": 18,
   "metadata": {},
   "outputs": [
    {
     "name": "stdout",
     "output_type": "stream",
     "text": [
      "\n",
      " Vectoriel : \t mean : 0.2449495501788904 \t-\t std : 0.37303178412897914\n",
      "\n",
      " OkapiBM25 : \t mean : 0.24937715272215846 \t-\t std : 0.3745200103739029\n",
      "\n",
      " LanguageModel : \t mean : 0.20011434603072467 \t-\t std : 0.3845833677043109\n"
     ]
    }
   ],
   "source": [
    "for (name,model) in models.items():\n",
    "    evalModel = EvalIRModel(model, mesures['AveragePrecision'])\n",
    "    scores,mean_score, std_score = evalModel.eval(queryParser, verbose=False)\n",
    "    print(\"\\n {} : \\t mean : {} \\t-\\t std : {}\".format(name,mean_score, std_score))"
   ]
  },
  {
   "cell_type": "markdown",
   "metadata": {},
   "source": [
    "## Mesure : NDCG"
   ]
  },
  {
   "cell_type": "code",
   "execution_count": 82,
   "metadata": {},
   "outputs": [
    {
     "name": "stdout",
     "output_type": "stream",
     "text": [
      "\n",
      " Vectoriel : \t mean : 0.33620560160662916 \t-\t std : 0.36349445371188643\n",
      "\n",
      " OkapiBM25 : \t mean : 0.3546611535176075 \t-\t std : 0.3637833866075421\n",
      "\n",
      " LanguageModel : \t mean : 0.20629990643136392 \t-\t std : 0.38336300960908565\n"
     ]
    }
   ],
   "source": [
    "for (name,model) in models.items():\n",
    "    evalModel = EvalIRModel(model, mesures['NDCG'])\n",
    "    scores,mean_score, std_score = evalModel.eval(queryParser, verbose=False)\n",
    "    print(\"\\n {} : \\t mean : {} \\t-\\t std : {}\".format(name,mean_score, std_score))"
   ]
  },
  {
   "cell_type": "markdown",
   "metadata": {},
   "source": [
    "## Mesure : Reciprocal Rank\n"
   ]
  },
  {
   "cell_type": "code",
   "execution_count": 83,
   "metadata": {},
   "outputs": [
    {
     "name": "stdout",
     "output_type": "stream",
     "text": [
      "\n",
      " Vectoriel : \t mean : 0.24836804467766638 \t-\t std : 0.40446586552441394\n",
      "\n",
      " OkapiBM25 : \t mean : 0.24952072514778106 \t-\t std : 0.4003660437739104\n",
      "\n",
      " LanguageModel : \t mean : 0.18832236842105263 \t-\t std : 0.38997175295239245\n"
     ]
    }
   ],
   "source": [
    "for (name,model) in models.items():\n",
    "    evalModel = EvalIRModel(model, mesures['ReciprocalRank'])\n",
    "    scores,mean_score, std_score = evalModel.eval(queryParser, verbose=False)\n",
    "    print(\"\\n {} : \\t mean : {} \\t-\\t std : {}\".format(name,mean_score, std_score))"
   ]
  },
  {
   "cell_type": "code",
   "execution_count": 84,
   "metadata": {},
   "outputs": [],
   "source": [
    "perfs = np.zeros((len(mesures), len(models)))\n",
    "for i, mesure in enumerate(mesures.values()):\n",
    "        for j, model in enumerate(models.values()):\n",
    "            evalModel = EvalIRModel(model, mesure)\n",
    "            perfs[i,j] = evalModel.eval(queryParser, verbose=False)[1]"
   ]
  },
  {
   "cell_type": "code",
   "execution_count": 85,
   "metadata": {},
   "outputs": [
    {
     "data": {
      "image/png": "[encoded data removed]",
      "text/plain": [
       "<Figure size 720x720 with 2 Axes>"
      ]
     },
     "metadata": {
      "needs_background": "light"
     },
     "output_type": "display_data"
    }
   ],
   "source": [
    "fig, ax = plt.subplots(figsize=(10,10))\n",
    "im = ax.imshow(perfs)\n",
    "fig.colorbar(im)\n",
    "ax.set_xlabel(\"Models\")\n",
    "ax.set_ylabel(\"Mesures\")\n",
    "ax.set_xticks(np.arange(len(models)))\n",
    "ax.set_yticks(np.arange(len(mesures)))\n",
    "ax.set_xticklabels(models.keys())\n",
    "ax.set_yticklabels(mesures.keys())\n",
    "plt.show()"
   ]
  },
  {
   "cell_type": "markdown",
   "metadata": {},
   "source": [
    "## Paired t-test : \n",
    "**to see if the difference of performance between two IR models can be explained by pure chance, is this difference statistcally signficant?**"
   ]
  },
  {
   "cell_type": "code",
   "execution_count": 86,
   "metadata": {},
   "outputs": [
    {
     "name": "stdout",
     "output_type": "stream",
     "text": [
      "les performances des deux modèles ne sont pas significativement différentes à 95% de confiance : t = -0.0382060769519059\n"
     ]
    }
   ],
   "source": [
    "evalVect = EvalIRModel(models['Vectoriel'], mesures['PrecisionK'])\n",
    "scores1,_,_ = evalVect.eval(queryParser)\n",
    "evalOkapi = EvalIRModel(models['OkapiBM25'], mesures['PrecisionK'])\n",
    "scores2,_,_ = evalOkapi.eval(queryParser)\n",
    "diff, stat = paired_ttest(scores1, scores2)"
   ]
  },
  {
   "cell_type": "code",
   "execution_count": 87,
   "metadata": {},
   "outputs": [
    {
     "name": "stdout",
     "output_type": "stream",
     "text": [
      "les performances des deux modèles ne sont pas significativement différentes à 95% de confiance : t = 1.5211774635715187\n"
     ]
    }
   ],
   "source": [
    "evalVect = EvalIRModel(models['Vectoriel'], mesures['PrecisionK'])\n",
    "scores1,_,_ = evalVect.eval(queryParser)\n",
    "evalOkapi = EvalIRModel(models['LanguageModel'], mesures['PrecisionK'])\n",
    "scores2,_,_ = evalOkapi.eval(queryParser)\n",
    "diff, stat = paired_ttest(scores1, scores2)"
   ]
  },
  {
   "cell_type": "markdown",
   "metadata": {},
   "source": [
    "# Corpus CISI"
   ]
  },
  {
   "cell_type": "markdown",
   "metadata": {},
   "source": [
    "## Chargement des données et création de l'indexer"
   ]
  },
  {
   "cell_type": "code",
   "execution_count": 88,
   "metadata": {
    "ExecuteTime": {
     "end_time": "2020-05-07T20:01:54.108051Z",
     "start_time": "2020-05-07T20:01:34.384538Z"
    }
   },
   "outputs": [
    {
     "name": "stdout",
     "output_type": "stream",
     "text": [
      "Parsing des requetes effectué avec succès ! Nombre de requetes : 112\n",
      "L'indexation a été effectuée avec succès ! taille du corpus : 2459\n"
     ]
    }
   ],
   "source": [
    "file = \"../data/cisi/cisi\"\n",
    "try:\n",
    "    parser = Parser()\n",
    "    queryParser = QueryParser(file)\n",
    "    _ = parser.buildDocCollectionSimple(file+\".txt\", balise='.W')\n",
    "except FileNotFoundError:\n",
    "    print(\"le fichier est introuvable\")\n",
    "indexer = IndexerSimple(parser.collection)"
   ]
  },
  {
   "cell_type": "code",
   "execution_count": 89,
   "metadata": {
    "ExecuteTime": {
     "end_time": "2020-05-07T20:01:56.595095Z",
     "start_time": "2020-05-07T20:01:56.481280Z"
    }
   },
   "outputs": [],
   "source": [
    "k = 15\n",
    "beta = 1\n",
    "w = Weighter2(indexer)\n",
    "models = {'Vectoriel': Vectoriel(indexer,w),'OkapiBM25' : OkapiBM25(indexer,w), 'LanguageModel' : LanguageModel(indexer)}\n",
    "mesures = {'PrecisionK' : PrecisionK(k), 'RecallK': RecallK(k), 'FMesureK' : FMesureK(beta,k), 'AveragePrecision' : AveragePrecision(), 'ReciprocalRank' : ReciprocalRank(), 'NDCG' : NDCG(k)}"
   ]
  },
  {
   "cell_type": "code",
   "execution_count": 90,
   "metadata": {
    "ExecuteTime": {
     "end_time": "2020-05-07T20:09:26.807381Z",
     "start_time": "2020-05-07T20:09:23.885132Z"
    }
   },
   "outputs": [
    {
     "name": "stdout",
     "output_type": "stream",
     "text": [
      "\n",
      "  Vectoriel\tPrecisionK : \t \n",
      "\n",
      " mean : 0.36421859390609385 \t-\t std : 0.4410929441336055\n"
     ]
    }
   ],
   "source": [
    "# Mettre le paramètre verbose à True pour afficher le score obtenu pour chaque requete avec un des modèles.\n",
    "model = 'Vectoriel' # 'OkapiBM25' 'LanguageModel'\n",
    "mesure = 'PrecisionK' # 'RecallK' 'FMesureK' 'AveragePrecision' 'ReciprocalRank 'NDCG'\n",
    "evalModel = EvalIRModel(models[model], mesures[mesure])\n",
    "scores,mean_score, std_score = evalModel.eval(queryParser, verbose=False)\n",
    "print(\"\\n  {}\\t{} : \\t \".format(model,mesure))\n",
    "print(\"\\n mean : {} \\t-\\t std : {}\".format(mean_score, std_score))"
   ]
  },
  {
   "cell_type": "markdown",
   "metadata": {},
   "source": [
    "## Mesure : PrecisionK"
   ]
  },
  {
   "cell_type": "code",
   "execution_count": 91,
   "metadata": {},
   "outputs": [
    {
     "name": "stdout",
     "output_type": "stream",
     "text": [
      "\n",
      " Vectoriel : \t mean : 0.36421859390609385 \t-\t std : 0.4410929441336055\n",
      "\n",
      " OkapiBM25 : \t mean : 0.37707396769896767 \t-\t std : 0.43317131815220083\n",
      "\n",
      " LanguageModel : \t mean : 0.32373511904761904 \t-\t std : 0.46574927075745054\n"
     ]
    }
   ],
   "source": [
    "for (name,model) in models.items():\n",
    "    evalModel = EvalIRModel(model, mesures['PrecisionK'])\n",
    "    scores,mean_score, std_score = evalModel.eval(queryParser, verbose=False)\n",
    "    print(\"\\n {} : \\t mean : {} \\t-\\t std : {}\".format(name,mean_score, std_score))"
   ]
  },
  {
   "cell_type": "markdown",
   "metadata": {},
   "source": [
    "## Mesure : FMesureK"
   ]
  },
  {
   "cell_type": "code",
   "execution_count": 92,
   "metadata": {},
   "outputs": [
    {
     "name": "stdout",
     "output_type": "stream",
     "text": [
      "\n",
      " Vectoriel : \t mean : 0.3734514837089516 \t-\t std : 0.43493691692390046\n",
      "\n",
      " OkapiBM25 : \t mean : 0.3947146695700912 \t-\t std : 0.4219465630702307\n",
      "\n",
      " LanguageModel : \t mean : 0.32927132477098164 \t-\t std : 0.4621102911151734\n"
     ]
    }
   ],
   "source": [
    "for (name,model) in models.items():\n",
    "    evalModel = EvalIRModel(model, mesures['FMesureK'])\n",
    "    scores,mean_score, std_score = evalModel.eval(queryParser, verbose=False)\n",
    "    print(\"\\n {} : \\t mean : {} \\t-\\t std : {}\".format(name,mean_score, std_score))"
   ]
  },
  {
   "cell_type": "markdown",
   "metadata": {},
   "source": [
    "## Mesure : AveragePrecision"
   ]
  },
  {
   "cell_type": "code",
   "execution_count": 15,
   "metadata": {},
   "outputs": [
    {
     "name": "stdout",
     "output_type": "stream",
     "text": [
      "\n",
      " Vectoriel : \t mean : 0.3703782624481026 \t-\t std : 0.43623681664817376\n",
      "\n",
      " OkapiBM25 : \t mean : 0.38461300989443814 \t-\t std : 0.4279712285978263\n",
      "\n",
      " LanguageModel : \t mean : 0.3683807876371152 \t-\t std : 0.43723275419759977\n"
     ]
    }
   ],
   "source": [
    "for (name,model) in models.items():\n",
    "    evalModel = EvalIRModel(model, mesures['AveragePrecision'])\n",
    "    scores,mean_score, std_score = evalModel.eval(queryParser, verbose=False)\n",
    "    print(\"\\n {} : \\t mean : {} \\t-\\t std : {}\".format(name,mean_score, std_score))"
   ]
  },
  {
   "cell_type": "markdown",
   "metadata": {},
   "source": [
    "## Mesure : Reciprocal Rank"
   ]
  },
  {
   "cell_type": "code",
   "execution_count": 93,
   "metadata": {},
   "outputs": [
    {
     "name": "stdout",
     "output_type": "stream",
     "text": [
      "\n",
      " Vectoriel : \t mean : 0.3374183098521227 \t-\t std : 0.45959668298764345\n",
      "\n",
      " OkapiBM25 : \t mean : 0.33995786883319606 \t-\t std : 0.4576706786270082\n",
      "\n",
      " LanguageModel : \t mean : 0.32175682773109243 \t-\t std : 0.4668075852474534\n"
     ]
    }
   ],
   "source": [
    "for (name,model) in models.items():\n",
    "    evalModel = EvalIRModel(model, mesures['ReciprocalRank'])\n",
    "    scores,mean_score, std_score = evalModel.eval(queryParser, verbose=False)\n",
    "    print(\"\\n {} : \\t mean : {} \\t-\\t std : {}\".format(name,mean_score, std_score))"
   ]
  },
  {
   "cell_type": "markdown",
   "metadata": {},
   "source": [
    "## Mesure : NDCG"
   ]
  },
  {
   "cell_type": "code",
   "execution_count": 94,
   "metadata": {},
   "outputs": [
    {
     "name": "stdout",
     "output_type": "stream",
     "text": [
      "\n",
      " Vectoriel : \t mean : 0.4275949333164017 \t-\t std : 0.4145259497414393\n",
      "\n",
      " OkapiBM25 : \t mean : 0.47519215962851263 \t-\t std : 0.39347367298380104\n",
      "\n",
      " LanguageModel : \t mean : 0.3415267246391413 \t-\t std : 0.45692848372172623\n"
     ]
    }
   ],
   "source": [
    "for (name,model) in models.items():\n",
    "    evalModel = EvalIRModel(model, mesures['NDCG'])\n",
    "    scores,mean_score, std_score = evalModel.eval(queryParser, verbose=False)\n",
    "    print(\"\\n {} : \\t mean : {} \\t-\\t std : {}\".format(name,mean_score, std_score))"
   ]
  },
  {
   "cell_type": "code",
   "execution_count": 95,
   "metadata": {},
   "outputs": [],
   "source": [
    "perfs = np.zeros((len(mesures), len(models)))\n",
    "for i, mesure in enumerate(mesures.values()):\n",
    "        for j, model in enumerate(models.values()):\n",
    "            evalModel = EvalIRModel(model, mesure)\n",
    "            perfs[i,j] = evalModel.eval(queryParser, verbose=False)[1]"
   ]
  },
  {
   "cell_type": "code",
   "execution_count": 96,
   "metadata": {},
   "outputs": [
    {
     "data": {
      "image/png": "[encoded data removed]",
      "text/plain": [
       "<Figure size 720x720 with 2 Axes>"
      ]
     },
     "metadata": {
      "needs_background": "light"
     },
     "output_type": "display_data"
    }
   ],
   "source": [
    "fig, ax = plt.subplots(figsize=(10,10))\n",
    "im = ax.imshow(perfs)\n",
    "fig.colorbar(im)\n",
    "ax.set_xlabel(\"Models\")\n",
    "ax.set_ylabel(\"Mesures\")\n",
    "ax.set_xticks(np.arange(len(models)))\n",
    "ax.set_yticks(np.arange(len(mesures)))\n",
    "ax.set_xticklabels(models.keys())\n",
    "ax.set_yticklabels(mesures.keys())\n",
    "plt.show()"
   ]
  },
  {
   "cell_type": "code",
   "execution_count": null,
   "metadata": {},
   "outputs": [],
   "source": []
  }
 ],
 "metadata": {
  "kernelspec": {
   "display_name": "Python 3",
   "language": "python",
   "name": "python3"
  },
  "language_info": {
   "codemirror_mode": {
    "name": "ipython",
    "version": 3
   },
   "file_extension": ".py",
   "mimetype": "text/x-python",
   "name": "python",
   "nbconvert_exporter": "python",
   "pygments_lexer": "ipython3",
   "version": "3.7.6"
  }
 },
 "nbformat": 4,
 "nbformat_minor": 4
}
