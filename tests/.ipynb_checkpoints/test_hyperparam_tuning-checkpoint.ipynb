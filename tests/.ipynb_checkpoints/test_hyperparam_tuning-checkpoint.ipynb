{
 "cells": [
  {
   "cell_type": "code",
   "execution_count": 1,
   "metadata": {
    "ExecuteTime": {
     "end_time": "2020-05-07T22:23:40.386615Z",
     "start_time": "2020-05-07T22:23:39.926174Z"
    }
   },
   "outputs": [],
   "source": [
    "import numpy as np\n",
    "import matplotlib.pyplot as plt\n",
    "import sys\n",
    "sys.path.insert(0, '../src')\n",
    "from imports import *\n",
    "%load_ext autoreload\n",
    "%autoreload 2"
   ]
  },
  {
   "cell_type": "code",
   "execution_count": 7,
   "metadata": {},
   "outputs": [],
   "source": [
    "pathcacm = \"../data/cacm/cacm\"\n",
    "pathcisi = \"../data/cisi/cisi\""
   ]
  },
  {
   "cell_type": "code",
   "execution_count": 8,
   "metadata": {},
   "outputs": [
    {
     "name": "stdout",
     "output_type": "stream",
     "text": [
      "Parsing des requetes effectué avec succès ! Nombre de requetes : 64\n",
      "L'indexation a été effectuée avec succès ! taille du corpus : 4202\n"
     ]
    }
   ],
   "source": [
    "try:\n",
    "    parser = Parser()\n",
    "    queryParser = QueryParser(pathcacm)\n",
    "    _ = parser.buildDocCollectionSimple(pathcacm+\".txt\", balise='.T')\n",
    "except FileNotFoundError:\n",
    "    print(\"le fichier est introuvable\")\n",
    "indexer = IndexerSimple(parser.collection)"
   ]
  },
  {
   "cell_type": "code",
   "execution_count": 9,
   "metadata": {},
   "outputs": [],
   "source": [
    "possibilitiesLambda = np.arange(0.1,1.0,0.1)\n",
    "possibilitiesK1 = np.arange(1.2,2.0,0.1)\n",
    "possibilitiesB = np.arange(0.1,1.0,0.1)\n",
    "weighter = Weighter2(indexer)"
   ]
  },
  {
   "cell_type": "code",
   "execution_count": 10,
   "metadata": {},
   "outputs": [],
   "source": [
    "\n",
    "queries = np.asarray(list(queryParser.queries.values()))\n",
    "indices = np.random.permutation(queries.shape[0])\n",
    "train_idx, test_idx = indices[:int(queries.shape[0]*.8)], indices[int(queries.shape[0]*.8):]\n",
    "train_queries, test_queries = queries[train_idx], queries[test_idx]"
   ]
  },
  {
   "cell_type": "code",
   "execution_count": 20,
   "metadata": {},
   "outputs": [],
   "source": [
    "modelOkapi = OkapiBM25(indexer,weighter)\n",
    "modelOkapi.train_test_tuning((possibilitiesK1, possibilitiesB), train_queries)\n"
   ]
  },
  {
   "cell_type": "code",
   "execution_count": 28,
   "metadata": {},
   "outputs": [
    {
     "name": "stdout",
     "output_type": "stream",
     "text": [
      "Mean average precision en test : 0.093\n"
     ]
    }
   ],
   "source": [
    "mesure = AveragePrecision()\n",
    "score = .0\n",
    "for query in test_queries:\n",
    "    pred = np.array(modelOkapi.getRanking(query.get_text()))[:,0]\n",
    "    relevants = query.get_relevants()\n",
    "    score += mesure.evalQuery(pred,relevants)\n",
    "score /= len(train_queries)\n",
    "print(\"Mean average precision en test : {}\".format(np.round(score,3)))"
   ]
  },
  {
   "cell_type": "code",
   "execution_count": 23,
   "metadata": {},
   "outputs": [],
   "source": [
    "modelLM = LanguageModel(indexer)\n",
    "modelLM.train_test_tuning(possibilitiesLambda, train_queries)"
   ]
  },
  {
   "cell_type": "code",
   "execution_count": 29,
   "metadata": {},
   "outputs": [
    {
     "name": "stdout",
     "output_type": "stream",
     "text": [
      "Mean average precision en test : 0.088\n"
     ]
    }
   ],
   "source": [
    "mesure = AveragePrecision()\n",
    "score = .0\n",
    "for query in test_queries:\n",
    "    pred = np.array(modelLM.getRanking(query.get_text()))[:,0]\n",
    "    relevants = query.get_relevants()\n",
    "    score += mesure.evalQuery(pred,relevants)\n",
    "score /= len(train_queries)\n",
    "print(\"Mean average precision en test : {}\".format(np.round(score,3)))"
   ]
  },
  {
   "cell_type": "code",
   "execution_count": null,
   "metadata": {},
   "outputs": [],
   "source": []
  },
  {
   "cell_type": "code",
   "execution_count": null,
   "metadata": {},
   "outputs": [],
   "source": []
  },
  {
   "cell_type": "markdown",
   "metadata": {},
   "source": [
    "### Validation croisée"
   ]
  },
  {
   "cell_type": "code",
   "execution_count": 14,
   "metadata": {},
   "outputs": [],
   "source": [
    "from sklearn.model_selection import KFold\n",
    "kf = KFold(n_splits=possibilitiesLambda.shape[0])\n",
    "indices = kf.split(queries)\n",
    "\n",
    "def cross_val(queries,parameters):\n",
    "    indexer, lamb = parameters[0], parameters[1]\n",
    "    model = LanguageModel(indexer,lamb)\n",
    "    scores = []\n",
    "    mesure = AveragePrecision()\n",
    "    i = 0\n",
    "    score = np.zeros(len(possibilities))\n",
    "    for train_index, test_index in indices:\n",
    "        Q_train, Q_test = queries[train_index], queries[test_index]\n",
    "        # on optimise lambda sur le train\n",
    "        model = LanguageModel(indexer,lamb = possibilities[i])\n",
    "        for query in Q_train:\n",
    "            pred = np.array(model.getRanking(query.get_text()))[:,0]\n",
    "            relevants = query.get_relevants()\n",
    "            s += mesure.evalQuery(pred,relevants)\n",
    "        s /= len(train_queries)\n",
    "        \n",
    "        "
   ]
  },
  {
   "cell_type": "code",
   "execution_count": null,
   "metadata": {},
   "outputs": [],
   "source": [
    "def crossVal_split(data,folds = 3):\n",
    "\tdataset_split = []\n",
    "\tdataset_copy = data\n",
    "\tfold_size = int(len(data) / folds)\n",
    "\tfor i in range(folds):\n",
    "\t\tfold = list()\n",
    "\t\twhile len(fold) < fold_size:\n",
    "\t\t\tindex = randrange(len(dataset_copy))\n",
    "\t\t\tfold.append(dataset_copy.pop(index))\n",
    "\t\tdataset_split.append(fold)\n",
    "\treturn dataset_split\n",
    "    "
   ]
  }
 ],
 "metadata": {
  "kernelspec": {
   "display_name": "Python 3.7.6 64-bit",
   "language": "python",
   "name": "python37664bit19afc9c2c3da4b96a266ac8b4a4bf71f"
  },
  "language_info": {
   "codemirror_mode": {
    "name": "ipython",
    "version": 3
   },
   "file_extension": ".py",
   "mimetype": "text/x-python",
   "name": "python",
   "nbconvert_exporter": "python",
   "pygments_lexer": "ipython3",
   "version": "3.7.6"
  }
 },
 "nbformat": 4,
 "nbformat_minor": 4
}
